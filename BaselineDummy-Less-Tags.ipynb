{
 "cells": [
  {
   "cell_type": "code",
   "execution_count": 49,
   "id": "5107b7cb-5117-4ff5-8606-c8a8e607d820",
   "metadata": {},
   "outputs": [],
   "source": [
    "import os\n",
    "\n",
    "cwd = os.getcwd()"
   ]
  },
  {
   "cell_type": "code",
   "execution_count": 50,
   "id": "5e86b423-f9d7-48c9-a913-2ce2256cd6a8",
   "metadata": {},
   "outputs": [],
   "source": [
    "import pandas as pd\n",
    "\n",
    "df = pd.read_csv(cwd + '/data/processed/posts_train_test_clean.csv')"
   ]
  },
  {
   "cell_type": "code",
   "execution_count": 51,
   "id": "cc74eabe-90e7-4775-b5cc-dab63249da3a",
   "metadata": {},
   "outputs": [],
   "source": [
    "def split_tags(tags):\n",
    "    tags = tags[1:-1]\n",
    "    tags = tags.split(\"><\")\n",
    "    \n",
    "    return tags"
   ]
  },
  {
   "cell_type": "code",
   "execution_count": 52,
   "id": "80353996-3a17-4209-a638-0bb10021aaed",
   "metadata": {},
   "outputs": [],
   "source": [
    "df['targets'] = df.Tags.apply(lambda x: split_tags(x))"
   ]
  },
  {
   "cell_type": "markdown",
   "id": "ae0e6bcd",
   "metadata": {},
   "source": [
    "## 100 Tags mais usadas"
   ]
  },
  {
   "cell_type": "code",
   "execution_count": 53,
   "id": "b1bb7c7d",
   "metadata": {},
   "outputs": [],
   "source": [
    "def calculateTagsEntries(df):\n",
    "    count = {}\n",
    "    \n",
    "    for tags in df['targets']:\n",
    "        for tag in tags:\n",
    "            if(tag not in count.keys()):\n",
    "                dataTag = {\n",
    "                    'entries': 1,\n",
    "                }\n",
    "                count[tag] = dataTag\n",
    "            else:\n",
    "                count[tag]['entries'] += 1\n",
    "    return count\n",
    "\n",
    "def sortTags(count):\n",
    "    return dict(sorted(count.items(), key=lambda item: -item[1]['entries']))"
   ]
  },
  {
   "cell_type": "code",
   "execution_count": 54,
   "id": "2f522f38",
   "metadata": {},
   "outputs": [],
   "source": [
    "classes = []\n",
    "\n",
    "def createClassesColumn(df):\n",
    "    for documentTags in df['targets']:\n",
    "        wasInDocumentTags = False\n",
    "\n",
    "        for documentTag in documentTags:\n",
    "            if(documentTag in MostUsedTags):\n",
    "                wasInDocumentTags = True\n",
    "                classes.append(documentTag)\n",
    "                break\n",
    "        if(not wasInDocumentTags):\n",
    "            classes.append('unknown-tag')\n",
    "    df['class'] = classes    "
   ]
  },
  {
   "cell_type": "code",
   "execution_count": 55,
   "id": "f35bec24",
   "metadata": {},
   "outputs": [],
   "source": [
    "MostUsedTags = list(sortTags(calculateTagsEntries(df)).keys())[:100]\n",
    "createClassesColumn(df)"
   ]
  },
  {
   "cell_type": "code",
   "execution_count": 56,
   "id": "d74c9c55",
   "metadata": {},
   "outputs": [],
   "source": [
    "y = df['class']"
   ]
  },
  {
   "cell_type": "code",
   "execution_count": 57,
   "id": "9e69f4c8",
   "metadata": {},
   "outputs": [
    {
     "data": {
      "text/html": [
       "<div>\n",
       "<style scoped>\n",
       "    .dataframe tbody tr th:only-of-type {\n",
       "        vertical-align: middle;\n",
       "    }\n",
       "\n",
       "    .dataframe tbody tr th {\n",
       "        vertical-align: top;\n",
       "    }\n",
       "\n",
       "    .dataframe thead th {\n",
       "        text-align: right;\n",
       "    }\n",
       "</style>\n",
       "<table border=\"1\" class=\"dataframe\">\n",
       "  <thead>\n",
       "    <tr style=\"text-align: right;\">\n",
       "      <th></th>\n",
       "      <th>Unnamed: 0</th>\n",
       "      <th>Post Link</th>\n",
       "      <th>Title</th>\n",
       "      <th>Body</th>\n",
       "      <th>Tags</th>\n",
       "      <th>CreationDate</th>\n",
       "      <th>Answer Date</th>\n",
       "      <th>AcceptedAnswerId</th>\n",
       "      <th>id</th>\n",
       "      <th>score</th>\n",
       "      <th>complete_text</th>\n",
       "      <th>normalized_text</th>\n",
       "      <th>targets</th>\n",
       "      <th>class</th>\n",
       "    </tr>\n",
       "  </thead>\n",
       "  <tbody>\n",
       "    <tr>\n",
       "      <th>0</th>\n",
       "      <td>69943</td>\n",
       "      <td>16835963</td>\n",
       "      <td>Sidekiq not processing queue</td>\n",
       "      <td>&lt;p&gt;What possible reasons can &lt;a href=\"https://...</td>\n",
       "      <td>&lt;ruby-on-rails-3&gt;&lt;redis&gt;&lt;sidekiq&gt;</td>\n",
       "      <td>2013-05-30 12:19:00</td>\n",
       "      <td>2013-05-30 12:53:32</td>\n",
       "      <td>16836794</td>\n",
       "      <td>16836794</td>\n",
       "      <td>71</td>\n",
       "      <td>sidekiq not processing queue what possible rea...</td>\n",
       "      <td>sidekiq process queue possibl reason sidekiq p...</td>\n",
       "      <td>[ruby-on-rails-3, redis, sidekiq]</td>\n",
       "      <td>unknown-tag</td>\n",
       "    </tr>\n",
       "    <tr>\n",
       "      <th>1</th>\n",
       "      <td>79655</td>\n",
       "      <td>31667160</td>\n",
       "      <td>Running docker container : iptables: No chain/...</td>\n",
       "      <td>&lt;p&gt;I'm trying to run a container but I get the...</td>\n",
       "      <td>&lt;docker&gt;&lt;port&gt;&lt;iptables&gt;</td>\n",
       "      <td>2015-07-28 04:03:53</td>\n",
       "      <td>2015-07-28 04:14:04</td>\n",
       "      <td>31667244</td>\n",
       "      <td>31667244</td>\n",
       "      <td>65</td>\n",
       "      <td>running docker container iptables no chain tar...</td>\n",
       "      <td>run docker contain iptabl chain target match n...</td>\n",
       "      <td>[docker, port, iptables]</td>\n",
       "      <td>docker</td>\n",
       "    </tr>\n",
       "    <tr>\n",
       "      <th>2</th>\n",
       "      <td>97858</td>\n",
       "      <td>3299648</td>\n",
       "      <td>Python Compilation/Interpretation Process</td>\n",
       "      <td>&lt;p&gt;I'm trying to understand the python compile...</td>\n",
       "      <td>&lt;python&gt;&lt;compiler-construction&gt;&lt;interpreter&gt;&lt;p...</td>\n",
       "      <td>2010-07-21 13:21:47</td>\n",
       "      <td>2010-07-21 13:28:54</td>\n",
       "      <td>3299724</td>\n",
       "      <td>3299724</td>\n",
       "      <td>53</td>\n",
       "      <td>python compilation interpretation process i m ...</td>\n",
       "      <td>python compil interpret process tri understand...</td>\n",
       "      <td>[python, compiler-construction, interpreter, p...</td>\n",
       "      <td>python</td>\n",
       "    </tr>\n",
       "    <tr>\n",
       "      <th>3</th>\n",
       "      <td>14078</td>\n",
       "      <td>3664272</td>\n",
       "      <td>Is std::vector so much slower than plain arrays?</td>\n",
       "      <td>&lt;p&gt;I've always thought it's the general wisdom...</td>\n",
       "      <td>&lt;c++&gt;&lt;arrays&gt;&lt;performance&gt;&lt;stl&gt;&lt;vector&gt;</td>\n",
       "      <td>2010-09-08 02:38:41</td>\n",
       "      <td>2010-09-08 02:57:40</td>\n",
       "      <td>3664349</td>\n",
       "      <td>3664349</td>\n",
       "      <td>239</td>\n",
       "      <td>is std vector so much slower than plain arrays...</td>\n",
       "      <td>std vector much slower plain array alway thoug...</td>\n",
       "      <td>[c++, arrays, performance, stl, vector]</td>\n",
       "      <td>c++</td>\n",
       "    </tr>\n",
       "    <tr>\n",
       "      <th>4</th>\n",
       "      <td>46299</td>\n",
       "      <td>13342123</td>\n",
       "      <td>How to get relative path of a file in visual s...</td>\n",
       "      <td>&lt;p&gt;I am trying to get the path of an image fil...</td>\n",
       "      <td>&lt;c#&gt;&lt;visual-studio&gt;</td>\n",
       "      <td>2012-11-12 10:33:32</td>\n",
       "      <td>2013-10-11 10:57:06</td>\n",
       "      <td>19316470</td>\n",
       "      <td>19316470</td>\n",
       "      <td>100</td>\n",
       "      <td>how to get relative path of a file in visual s...</td>\n",
       "      <td>get rel path file visual studio tri get path i...</td>\n",
       "      <td>[c#, visual-studio]</td>\n",
       "      <td>c#</td>\n",
       "    </tr>\n",
       "    <tr>\n",
       "      <th>...</th>\n",
       "      <td>...</td>\n",
       "      <td>...</td>\n",
       "      <td>...</td>\n",
       "      <td>...</td>\n",
       "      <td>...</td>\n",
       "      <td>...</td>\n",
       "      <td>...</td>\n",
       "      <td>...</td>\n",
       "      <td>...</td>\n",
       "      <td>...</td>\n",
       "      <td>...</td>\n",
       "      <td>...</td>\n",
       "      <td>...</td>\n",
       "      <td>...</td>\n",
       "    </tr>\n",
       "    <tr>\n",
       "      <th>73917</th>\n",
       "      <td>91379</td>\n",
       "      <td>1563062</td>\n",
       "      <td>Prevent form submission with enter key</td>\n",
       "      <td>&lt;p&gt;I just wrote this nifty little function whi...</td>\n",
       "      <td>&lt;javascript&gt;&lt;jquery&gt;&lt;html&gt;</td>\n",
       "      <td>2009-10-13 21:39:53</td>\n",
       "      <td>2009-10-14 14:20:48</td>\n",
       "      <td>1566586</td>\n",
       "      <td>1566586</td>\n",
       "      <td>57</td>\n",
       "      <td>prevent form submission with enter key i just ...</td>\n",
       "      <td>prevent form submiss enter key wrote nifti lit...</td>\n",
       "      <td>[javascript, jquery, html]</td>\n",
       "      <td>javascript</td>\n",
       "    </tr>\n",
       "    <tr>\n",
       "      <th>73918</th>\n",
       "      <td>96168</td>\n",
       "      <td>57202043</td>\n",
       "      <td>Windows Defender might be impacting your build...</td>\n",
       "      <td>&lt;p&gt;After I updated my PyCharm IDE to 19.2.0 fr...</td>\n",
       "      <td>&lt;android-studio&gt;&lt;jetbrains-ide&gt;</td>\n",
       "      <td>2019-07-25 12:31:51</td>\n",
       "      <td>2019-10-17 13:22:37</td>\n",
       "      <td>58433724</td>\n",
       "      <td>58433724</td>\n",
       "      <td>54</td>\n",
       "      <td>windows defender might be impacting your build...</td>\n",
       "      <td>window defend might impact build perform updat...</td>\n",
       "      <td>[android-studio, jetbrains-ide]</td>\n",
       "      <td>android-studio</td>\n",
       "    </tr>\n",
       "    <tr>\n",
       "      <th>73919</th>\n",
       "      <td>21235</td>\n",
       "      <td>1030043</td>\n",
       "      <td>HTML table headers always visible at top of wi...</td>\n",
       "      <td>&lt;p&gt;I would like to be able to \"tweak\" an HTML ...</td>\n",
       "      <td>&lt;html&gt;&lt;html-table&gt;</td>\n",
       "      <td>2009-06-23 00:17:12</td>\n",
       "      <td>2013-10-02 16:27:04</td>\n",
       "      <td>19141921</td>\n",
       "      <td>19141921</td>\n",
       "      <td>179</td>\n",
       "      <td>html table headers always visible at top of wi...</td>\n",
       "      <td>html tabl header alway visibl top window view ...</td>\n",
       "      <td>[html, html-table]</td>\n",
       "      <td>html</td>\n",
       "    </tr>\n",
       "    <tr>\n",
       "      <th>73920</th>\n",
       "      <td>10891</td>\n",
       "      <td>15826745</td>\n",
       "      <td>TypeScript: Creating an empty typed container ...</td>\n",
       "      <td>&lt;p&gt;I am creating simple logic game called \"Thr...</td>\n",
       "      <td>&lt;javascript&gt;&lt;arrays&gt;&lt;typescript&gt;</td>\n",
       "      <td>2013-04-05 05:43:23</td>\n",
       "      <td>2017-04-05 12:10:42</td>\n",
       "      <td>43230812</td>\n",
       "      <td>43230812</td>\n",
       "      <td>286</td>\n",
       "      <td>typescript creating an empty typed container a...</td>\n",
       "      <td>typescript creat empti type contain array crea...</td>\n",
       "      <td>[javascript, arrays, typescript]</td>\n",
       "      <td>javascript</td>\n",
       "    </tr>\n",
       "    <tr>\n",
       "      <th>73921</th>\n",
       "      <td>66901</td>\n",
       "      <td>47372568</td>\n",
       "      <td>How to point to localhost:8000 with the Dart h...</td>\n",
       "      <td>&lt;p&gt;I'm following the &lt;a href=\"https://flutter....</td>\n",
       "      <td>&lt;http&gt;&lt;dart&gt;&lt;localhost&gt;&lt;flutter&gt;</td>\n",
       "      <td>2017-11-19 00:32:50</td>\n",
       "      <td>2017-11-19 16:14:46</td>\n",
       "      <td>47379000</td>\n",
       "      <td>47379000</td>\n",
       "      <td>73</td>\n",
       "      <td>how to point to localhost with the dart http p...</td>\n",
       "      <td>point localhost dart http packag flutter follo...</td>\n",
       "      <td>[http, dart, localhost, flutter]</td>\n",
       "      <td>http</td>\n",
       "    </tr>\n",
       "  </tbody>\n",
       "</table>\n",
       "<p>73922 rows × 14 columns</p>\n",
       "</div>"
      ],
      "text/plain": [
       "       Unnamed: 0  Post Link  \\\n",
       "0           69943   16835963   \n",
       "1           79655   31667160   \n",
       "2           97858    3299648   \n",
       "3           14078    3664272   \n",
       "4           46299   13342123   \n",
       "...           ...        ...   \n",
       "73917       91379    1563062   \n",
       "73918       96168   57202043   \n",
       "73919       21235    1030043   \n",
       "73920       10891   15826745   \n",
       "73921       66901   47372568   \n",
       "\n",
       "                                                   Title  \\\n",
       "0                           Sidekiq not processing queue   \n",
       "1      Running docker container : iptables: No chain/...   \n",
       "2              Python Compilation/Interpretation Process   \n",
       "3       Is std::vector so much slower than plain arrays?   \n",
       "4      How to get relative path of a file in visual s...   \n",
       "...                                                  ...   \n",
       "73917             Prevent form submission with enter key   \n",
       "73918  Windows Defender might be impacting your build...   \n",
       "73919  HTML table headers always visible at top of wi...   \n",
       "73920  TypeScript: Creating an empty typed container ...   \n",
       "73921  How to point to localhost:8000 with the Dart h...   \n",
       "\n",
       "                                                    Body  \\\n",
       "0      <p>What possible reasons can <a href=\"https://...   \n",
       "1      <p>I'm trying to run a container but I get the...   \n",
       "2      <p>I'm trying to understand the python compile...   \n",
       "3      <p>I've always thought it's the general wisdom...   \n",
       "4      <p>I am trying to get the path of an image fil...   \n",
       "...                                                  ...   \n",
       "73917  <p>I just wrote this nifty little function whi...   \n",
       "73918  <p>After I updated my PyCharm IDE to 19.2.0 fr...   \n",
       "73919  <p>I would like to be able to \"tweak\" an HTML ...   \n",
       "73920  <p>I am creating simple logic game called \"Thr...   \n",
       "73921  <p>I'm following the <a href=\"https://flutter....   \n",
       "\n",
       "                                                    Tags         CreationDate  \\\n",
       "0                      <ruby-on-rails-3><redis><sidekiq>  2013-05-30 12:19:00   \n",
       "1                               <docker><port><iptables>  2015-07-28 04:03:53   \n",
       "2      <python><compiler-construction><interpreter><p...  2010-07-21 13:21:47   \n",
       "3                <c++><arrays><performance><stl><vector>  2010-09-08 02:38:41   \n",
       "4                                    <c#><visual-studio>  2012-11-12 10:33:32   \n",
       "...                                                  ...                  ...   \n",
       "73917                         <javascript><jquery><html>  2009-10-13 21:39:53   \n",
       "73918                    <android-studio><jetbrains-ide>  2019-07-25 12:31:51   \n",
       "73919                                 <html><html-table>  2009-06-23 00:17:12   \n",
       "73920                   <javascript><arrays><typescript>  2013-04-05 05:43:23   \n",
       "73921                   <http><dart><localhost><flutter>  2017-11-19 00:32:50   \n",
       "\n",
       "               Answer Date  AcceptedAnswerId        id  score  \\\n",
       "0      2013-05-30 12:53:32          16836794  16836794     71   \n",
       "1      2015-07-28 04:14:04          31667244  31667244     65   \n",
       "2      2010-07-21 13:28:54           3299724   3299724     53   \n",
       "3      2010-09-08 02:57:40           3664349   3664349    239   \n",
       "4      2013-10-11 10:57:06          19316470  19316470    100   \n",
       "...                    ...               ...       ...    ...   \n",
       "73917  2009-10-14 14:20:48           1566586   1566586     57   \n",
       "73918  2019-10-17 13:22:37          58433724  58433724     54   \n",
       "73919  2013-10-02 16:27:04          19141921  19141921    179   \n",
       "73920  2017-04-05 12:10:42          43230812  43230812    286   \n",
       "73921  2017-11-19 16:14:46          47379000  47379000     73   \n",
       "\n",
       "                                           complete_text  \\\n",
       "0      sidekiq not processing queue what possible rea...   \n",
       "1      running docker container iptables no chain tar...   \n",
       "2      python compilation interpretation process i m ...   \n",
       "3      is std vector so much slower than plain arrays...   \n",
       "4      how to get relative path of a file in visual s...   \n",
       "...                                                  ...   \n",
       "73917  prevent form submission with enter key i just ...   \n",
       "73918  windows defender might be impacting your build...   \n",
       "73919  html table headers always visible at top of wi...   \n",
       "73920  typescript creating an empty typed container a...   \n",
       "73921  how to point to localhost with the dart http p...   \n",
       "\n",
       "                                         normalized_text  \\\n",
       "0      sidekiq process queue possibl reason sidekiq p...   \n",
       "1      run docker contain iptabl chain target match n...   \n",
       "2      python compil interpret process tri understand...   \n",
       "3      std vector much slower plain array alway thoug...   \n",
       "4      get rel path file visual studio tri get path i...   \n",
       "...                                                  ...   \n",
       "73917  prevent form submiss enter key wrote nifti lit...   \n",
       "73918  window defend might impact build perform updat...   \n",
       "73919  html tabl header alway visibl top window view ...   \n",
       "73920  typescript creat empti type contain array crea...   \n",
       "73921  point localhost dart http packag flutter follo...   \n",
       "\n",
       "                                                 targets           class  \n",
       "0                      [ruby-on-rails-3, redis, sidekiq]     unknown-tag  \n",
       "1                               [docker, port, iptables]          docker  \n",
       "2      [python, compiler-construction, interpreter, p...          python  \n",
       "3                [c++, arrays, performance, stl, vector]             c++  \n",
       "4                                    [c#, visual-studio]              c#  \n",
       "...                                                  ...             ...  \n",
       "73917                         [javascript, jquery, html]      javascript  \n",
       "73918                    [android-studio, jetbrains-ide]  android-studio  \n",
       "73919                                 [html, html-table]            html  \n",
       "73920                   [javascript, arrays, typescript]      javascript  \n",
       "73921                   [http, dart, localhost, flutter]            http  \n",
       "\n",
       "[73922 rows x 14 columns]"
      ]
     },
     "execution_count": 57,
     "metadata": {},
     "output_type": "execute_result"
    }
   ],
   "source": [
    "df"
   ]
  },
  {
   "cell_type": "code",
   "execution_count": 58,
   "id": "820fa6f9",
   "metadata": {
    "scrolled": true
   },
   "outputs": [
    {
     "name": "stdout",
     "output_type": "stream",
     "text": [
      "101\n"
     ]
    }
   ],
   "source": [
    "targets_set = set(MostUsedTags + ['unknown-tag'])\n",
    "print(len(targets_set))"
   ]
  },
  {
   "cell_type": "code",
   "execution_count": 59,
   "id": "64e16090-4c75-4a8d-aa70-4fcb4261397a",
   "metadata": {},
   "outputs": [],
   "source": [
    "words_post = df.complete_text.apply(lambda x: str(x))\n",
    "\n",
    "from sklearn.feature_extraction.text import CountVectorizer\n",
    "from sklearn.feature_extraction.text import TfidfVectorizer\n",
    "\n",
    "vectorizer = TfidfVectorizer(min_df=20)\n",
    "# vectorizer = TfidfVectorizer()\n",
    "vectorizer.fit(words_post)\n",
    "X = vectorizer.transform(words_post)"
   ]
  },
  {
   "cell_type": "code",
   "execution_count": 60,
   "id": "b48bfb67-fe9c-4829-8158-0c800740f25b",
   "metadata": {},
   "outputs": [
    {
     "data": {
      "text/plain": [
       "0"
      ]
     },
     "execution_count": 60,
     "metadata": {},
     "output_type": "execute_result"
    }
   ],
   "source": [
    "import gc\n",
    "\n",
    "gc.collect()"
   ]
  },
  {
   "cell_type": "code",
   "execution_count": 61,
   "id": "43ba3575-3c5c-4902-ba6d-fad068c75ab0",
   "metadata": {},
   "outputs": [],
   "source": [
    "from sklearn.model_selection import train_test_split\n",
    "    \n",
    "X_train, X_test, y_train, y_test = train_test_split(X, y, test_size=0.2, random_state=42)"
   ]
  },
  {
   "cell_type": "code",
   "execution_count": 62,
   "id": "aba4c6eb-d9d6-46c5-be17-32db7fcbe61f",
   "metadata": {},
   "outputs": [
    {
     "data": {
      "text/plain": [
       "DummyClassifier(random_state=44)"
      ]
     },
     "execution_count": 62,
     "metadata": {},
     "output_type": "execute_result"
    }
   ],
   "source": [
    "from sklearn.dummy import DummyClassifier\n",
    "\n",
    "dummy_model = DummyClassifier(random_state=44, strategy=\"prior\")\n",
    "dummy_model.fit(X_train, y_train)"
   ]
  },
  {
   "cell_type": "code",
   "execution_count": 63,
   "id": "e36356cf-f075-44a1-b150-088931897b55",
   "metadata": {},
   "outputs": [],
   "source": [
    "y_pred = dummy_model.predict(X_test)"
   ]
  },
  {
   "cell_type": "code",
   "execution_count": 64,
   "id": "2745c90c-f7fc-4898-90e6-00f362313476",
   "metadata": {
    "scrolled": true,
    "tags": []
   },
   "outputs": [
    {
     "name": "stdout",
     "output_type": "stream",
     "text": [
      "[[0 0 0 ... 0 0 0]\n",
      " [0 0 0 ... 0 0 0]\n",
      " [0 0 0 ... 0 0 0]\n",
      " ...\n",
      " [0 0 0 ... 0 0 0]\n",
      " [0 0 0 ... 0 0 0]\n",
      " [0 0 0 ... 0 0 0]]\n",
      "                     precision    recall  f1-score   support\n",
      "\n",
      "               .net       0.00      0.00      0.00       127\n",
      "               ajax       0.00      0.00      0.00         4\n",
      "          algorithm       0.00      0.00      0.00        51\n",
      "amazon-web-services       0.00      0.00      0.00        28\n",
      "            android       0.00      0.00      0.00       801\n",
      "     android-studio       0.00      0.00      0.00        16\n",
      "            angular       0.00      0.00      0.00       116\n",
      "          angularjs       0.00      0.00      0.00        65\n",
      "             arrays       0.00      0.00      0.00        31\n",
      "            asp.net       0.00      0.00      0.00        67\n",
      "        asp.net-mvc       0.00      0.00      0.00        51\n",
      "               bash       0.00      0.00      0.00       138\n",
      "                  c       0.00      0.00      0.00       194\n",
      "                 c#       0.00      0.00      0.00      1141\n",
      "                c++       0.00      0.00      0.00       645\n",
      "              c++11       0.00      0.00      0.00         1\n",
      "              class       0.00      0.00      0.00         2\n",
      "        cocoa-touch       0.00      0.00      0.00         4\n",
      "       command-line       0.00      0.00      0.00        10\n",
      "                css       0.00      0.00      0.00       210\n",
      "               dart       0.00      0.00      0.00        23\n",
      "           database       0.00      0.00      0.00        38\n",
      "          dataframe       0.00      0.00      0.00         4\n",
      "               date       0.00      0.00      0.00         1\n",
      "           datetime       0.00      0.00      0.00         5\n",
      "          debugging       0.00      0.00      0.00        10\n",
      "         dictionary       0.00      0.00      0.00         4\n",
      "             django       0.00      0.00      0.00        75\n",
      "             docker       0.00      0.00      0.00       100\n",
      "            eclipse       0.00      0.00      0.00        48\n",
      "   entity-framework       0.00      0.00      0.00        10\n",
      "          exception       0.00      0.00      0.00         2\n",
      "               file       0.00      0.00      0.00        11\n",
      "            flutter       0.00      0.00      0.00        44\n",
      "           function       0.00      0.00      0.00        11\n",
      "                git       0.00      0.00      0.00       446\n",
      "             github       0.00      0.00      0.00        34\n",
      "                 go       0.00      0.00      0.00        65\n",
      "      google-chrome       0.00      0.00      0.00        24\n",
      "             gradle       0.00      0.00      0.00        22\n",
      "               html       0.00      0.00      0.00       349\n",
      "               http       0.00      0.00      0.00        42\n",
      "              image       0.00      0.00      0.00         9\n",
      "      intellij-idea       0.00      0.00      0.00        44\n",
      "                ios       0.00      0.00      0.00       390\n",
      "             iphone       0.00      0.00      0.00       112\n",
      "               java       0.00      0.00      0.00      1267\n",
      "             java-8       0.00      0.00      0.00         4\n",
      "         javascript       0.00      0.00      0.00      1459\n",
      "             jquery       0.00      0.00      0.00       178\n",
      "               json       0.00      0.00      0.00        38\n",
      "            laravel       0.00      0.00      0.00        24\n",
      "               linq       0.00      0.00      0.00         8\n",
      "              linux       0.00      0.00      0.00       180\n",
      "               list       0.00      0.00      0.00         6\n",
      "              macos       0.00      0.00      0.00        59\n",
      "         matplotlib       0.00      0.00      0.00         3\n",
      "              maven       0.00      0.00      0.00        22\n",
      "            mongodb       0.00      0.00      0.00        35\n",
      "     multithreading       0.00      0.00      0.00        12\n",
      "              mysql       0.00      0.00      0.00       226\n",
      "            node.js       0.00      0.00      0.00       169\n",
      "                npm       0.00      0.00      0.00        11\n",
      "        objective-c       0.00      0.00      0.00        97\n",
      "                oop       0.00      0.00      0.00        16\n",
      "             pandas       0.00      0.00      0.00         2\n",
      "        performance       0.00      0.00      0.00        15\n",
      "                php       0.00      0.00      0.00       485\n",
      "         postgresql       0.00      0.00      0.00        64\n",
      "             python       0.10      1.00      0.18      1484\n",
      "         python-3.x       0.00      0.00      0.00         5\n",
      "                  r       0.00      0.00      0.00       164\n",
      "            reactjs       0.00      0.00      0.00        83\n",
      "              regex       0.00      0.00      0.00        54\n",
      "               rest       0.00      0.00      0.00        24\n",
      "               ruby       0.00      0.00      0.00       137\n",
      "      ruby-on-rails       0.00      0.00      0.00       209\n",
      "              scala       0.00      0.00      0.00        61\n",
      "              shell       0.00      0.00      0.00        25\n",
      "            sorting       0.00      0.00      0.00         3\n",
      "             spring       0.00      0.00      0.00        32\n",
      "                sql       0.00      0.00      0.00       258\n",
      "         sql-server       0.00      0.00      0.00        91\n",
      "             string       0.00      0.00      0.00        25\n",
      "              swift       0.00      0.00      0.00        71\n",
      "             syntax       0.00      0.00      0.00         8\n",
      "               tsql       0.00      0.00      0.00         7\n",
      "  twitter-bootstrap       0.00      0.00      0.00        28\n",
      "         typescript       0.00      0.00      0.00        78\n",
      "       unit-testing       0.00      0.00      0.00        26\n",
      "               unix       0.00      0.00      0.00        19\n",
      "        unknown-tag       0.00      0.00      0.00      1490\n",
      "    version-control       0.00      0.00      0.00        11\n",
      "                vim       0.00      0.00      0.00        78\n",
      "      visual-studio       0.00      0.00      0.00        61\n",
      " visual-studio-code       0.00      0.00      0.00        31\n",
      "            windows       0.00      0.00      0.00        97\n",
      "                wpf       0.00      0.00      0.00        42\n",
      "              xcode       0.00      0.00      0.00        48\n",
      "                xml       0.00      0.00      0.00        30\n",
      "\n",
      "           accuracy                           0.10     14785\n",
      "          macro avg       0.00      0.01      0.00     14785\n",
      "       weighted avg       0.01      0.10      0.02     14785\n",
      "\n",
      "0.10037199864727765\n"
     ]
    },
    {
     "name": "stderr",
     "output_type": "stream",
     "text": [
      "C:\\Users\\Vitor\\anaconda3\\lib\\site-packages\\sklearn\\metrics\\_classification.py:1318: UndefinedMetricWarning: Precision and F-score are ill-defined and being set to 0.0 in labels with no predicted samples. Use `zero_division` parameter to control this behavior.\n",
      "  _warn_prf(average, modifier, msg_start, len(result))\n",
      "C:\\Users\\Vitor\\anaconda3\\lib\\site-packages\\sklearn\\metrics\\_classification.py:1318: UndefinedMetricWarning: Precision and F-score are ill-defined and being set to 0.0 in labels with no predicted samples. Use `zero_division` parameter to control this behavior.\n",
      "  _warn_prf(average, modifier, msg_start, len(result))\n",
      "C:\\Users\\Vitor\\anaconda3\\lib\\site-packages\\sklearn\\metrics\\_classification.py:1318: UndefinedMetricWarning: Precision and F-score are ill-defined and being set to 0.0 in labels with no predicted samples. Use `zero_division` parameter to control this behavior.\n",
      "  _warn_prf(average, modifier, msg_start, len(result))\n"
     ]
    }
   ],
   "source": [
    "from sklearn.metrics import classification_report, confusion_matrix, accuracy_score\n",
    "\n",
    "print(confusion_matrix(y_test,y_pred))\n",
    "print(classification_report(y_test,y_pred))\n",
    "print(accuracy_score(y_test, y_pred))"
   ]
  },
  {
   "cell_type": "code",
   "execution_count": 65,
   "id": "731948e0-2bb5-4c6f-a67d-9e221d10b5e8",
   "metadata": {},
   "outputs": [
    {
     "data": {
      "text/plain": [
       "['models/dummy_model_less_tags.joblib']"
      ]
     },
     "execution_count": 65,
     "metadata": {},
     "output_type": "execute_result"
    }
   ],
   "source": [
    "from joblib import dump, load\n",
    "dump(dummy_model, 'models/dummy_model_less_tags.joblib') "
   ]
  },
  {
   "cell_type": "code",
   "execution_count": 66,
   "id": "5a797e06-9734-49a4-b7ad-19c6adbf165d",
   "metadata": {},
   "outputs": [
    {
     "data": {
      "text/plain": [
       "array(['.net', 'ajax', 'algorithm', 'amazon-web-services', 'android',\n",
       "       'android-studio', 'angular', 'angularjs', 'arrays', 'asp.net',\n",
       "       'asp.net-mvc', 'bash', 'c', 'c#', 'c++', 'c++11', 'class',\n",
       "       'cocoa-touch', 'command-line', 'css', 'dart', 'database',\n",
       "       'dataframe', 'date', 'datetime', 'debugging', 'dictionary',\n",
       "       'django', 'docker', 'eclipse', 'entity-framework', 'exception',\n",
       "       'file', 'flutter', 'function', 'git', 'github', 'go',\n",
       "       'google-chrome', 'gradle', 'html', 'http', 'image',\n",
       "       'intellij-idea', 'ios', 'iphone', 'java', 'java-8', 'javascript',\n",
       "       'jquery', 'json', 'laravel', 'linq', 'linux', 'list', 'macos',\n",
       "       'matplotlib', 'maven', 'mongodb', 'multithreading', 'mysql',\n",
       "       'node.js', 'npm', 'numpy', 'objective-c', 'oop', 'pandas',\n",
       "       'performance', 'php', 'postgresql', 'python', 'python-3.x', 'r',\n",
       "       'reactjs', 'regex', 'rest', 'ruby', 'ruby-on-rails', 'scala',\n",
       "       'shell', 'sorting', 'spring', 'sql', 'sql-server', 'string',\n",
       "       'swift', 'syntax', 'tsql', 'twitter-bootstrap', 'typescript',\n",
       "       'unit-testing', 'unix', 'unknown-tag', 'version-control', 'vim',\n",
       "       'visual-studio', 'visual-studio-code', 'windows', 'wpf', 'xcode',\n",
       "       'xml'], dtype=object)"
      ]
     },
     "execution_count": 66,
     "metadata": {},
     "output_type": "execute_result"
    }
   ],
   "source": [
    "dummy_model.classes_"
   ]
  },
  {
   "cell_type": "code",
   "execution_count": 67,
   "id": "43de6788-2d7a-425f-85c5-c0042893c8ef",
   "metadata": {},
   "outputs": [
    {
     "data": {
      "text/plain": [
       "101"
      ]
     },
     "execution_count": 67,
     "metadata": {},
     "output_type": "execute_result"
    }
   ],
   "source": [
    "dummy_model.n_classes_"
   ]
  },
  {
   "cell_type": "code",
   "execution_count": 68,
   "id": "a1ccdc2f-62e5-4b71-b767-a0b578fcc742",
   "metadata": {},
   "outputs": [
    {
     "data": {
      "text/plain": [
       "array([7.82927778e-03, 5.58026278e-04, 3.38197744e-03, 2.80704128e-03,\n",
       "       5.33168744e-02, 1.13296244e-03, 8.03219643e-03, 4.78549808e-03,\n",
       "       2.11373590e-03, 4.87004752e-03, 4.19365203e-03, 9.58790605e-03,\n",
       "       1.25809561e-02, 7.75656526e-02, 3.98904239e-02, 1.18369210e-04,\n",
       "       2.36738421e-04, 3.21287857e-04, 8.45494361e-04, 1.53034479e-02,\n",
       "       2.21519522e-03, 2.58721274e-03, 1.01459323e-04, 2.36738421e-04,\n",
       "       2.53648308e-04, 8.79314135e-04, 4.73476842e-04, 4.95459695e-03,\n",
       "       5.54644301e-03, 3.48343677e-03, 8.11674586e-04, 2.36738421e-04,\n",
       "       8.45494361e-04, 2.92541049e-03, 6.93305376e-04, 2.90850060e-02,\n",
       "       2.11373590e-03, 4.56566955e-03, 1.60643929e-03, 8.79314135e-04,\n",
       "       2.28114378e-02, 3.17905880e-03, 7.94764699e-04, 2.18137545e-03,\n",
       "       2.64639735e-02, 7.38962071e-03, 8.49721832e-02, 1.86008759e-04,\n",
       "       9.78575173e-02, 1.31220725e-02, 3.02686981e-03, 1.33588109e-03,\n",
       "       4.73476842e-04, 1.16340024e-02, 6.93305376e-04, 3.90618395e-03,\n",
       "       2.70558195e-04, 1.64025906e-03, 3.14523902e-03, 8.11674586e-04,\n",
       "       1.40859360e-02, 1.12619849e-02, 6.25665827e-04, 3.38197744e-05,\n",
       "       6.56103624e-03, 1.04841301e-03, 2.19828534e-04, 1.38661075e-03,\n",
       "       3.15200298e-02, 3.43270710e-03, 1.04875120e-01, 4.22747180e-04,\n",
       "       1.23780374e-02, 5.25897492e-03, 4.22747180e-03, 1.64025906e-03,\n",
       "       9.40189729e-03, 1.31558923e-02, 4.31202124e-03, 1.48807007e-03,\n",
       "       1.35279098e-04, 2.07991613e-03, 1.76539222e-02, 5.46189357e-03,\n",
       "       2.21519522e-03, 4.59948932e-03, 6.25665827e-04, 3.88927406e-04,\n",
       "       1.23442177e-03, 4.65021898e-03, 1.60643929e-03, 1.50497996e-03,\n",
       "       1.02710655e-01, 1.09914267e-03, 5.74936165e-03, 4.53184977e-03,\n",
       "       2.21519522e-03, 6.20592861e-03, 3.06068959e-03, 3.41579722e-03,\n",
       "       1.65716895e-03])"
      ]
     },
     "execution_count": 68,
     "metadata": {},
     "output_type": "execute_result"
    }
   ],
   "source": [
    "dummy_model.class_prior_"
   ]
  },
  {
   "cell_type": "code",
   "execution_count": 69,
   "id": "955573f0-8266-476a-897f-95e75f69fddf",
   "metadata": {},
   "outputs": [
    {
     "data": {
      "text/plain": [
       "1"
      ]
     },
     "execution_count": 69,
     "metadata": {},
     "output_type": "execute_result"
    }
   ],
   "source": [
    "dummy_model.n_outputs_"
   ]
  },
  {
   "cell_type": "code",
   "execution_count": null,
   "id": "42da2199-449e-4086-b05a-16dac08ce808",
   "metadata": {},
   "outputs": [],
   "source": []
  }
 ],
 "metadata": {
  "kernelspec": {
   "display_name": "Python 3 (ipykernel)",
   "language": "python",
   "name": "python3"
  },
  "language_info": {
   "codemirror_mode": {
    "name": "ipython",
    "version": 3
   },
   "file_extension": ".py",
   "mimetype": "text/x-python",
   "name": "python",
   "nbconvert_exporter": "python",
   "pygments_lexer": "ipython3",
   "version": "3.9.12"
  }
 },
 "nbformat": 4,
 "nbformat_minor": 5
}

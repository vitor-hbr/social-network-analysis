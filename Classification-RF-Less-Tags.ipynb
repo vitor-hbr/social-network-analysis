{
 "cells": [
  {
   "cell_type": "code",
   "execution_count": 3,
   "id": "00237f5c-b98a-47ff-85aa-e6975a02f1c5",
   "metadata": {},
   "outputs": [],
   "source": [
    "import os\n",
    "\n",
    "cwd = os.getcwd()"
   ]
  },
  {
   "cell_type": "code",
   "execution_count": 5,
   "id": "e67fcd87-1304-4135-af00-114f62b62965",
   "metadata": {},
   "outputs": [],
   "source": [
    "import pandas as pd\n",
    "\n",
    "\n",
    "df = pd.read_csv(cwd + '/data/processed/posts_clean_short.csv')"
   ]
  },
  {
   "cell_type": "code",
   "execution_count": 6,
   "id": "a455aca8-f5d6-4d6e-bd44-0f2964db7c12",
   "metadata": {},
   "outputs": [
    {
     "data": {
      "text/html": [
       "<div>\n",
       "<style scoped>\n",
       "    .dataframe tbody tr th:only-of-type {\n",
       "        vertical-align: middle;\n",
       "    }\n",
       "\n",
       "    .dataframe tbody tr th {\n",
       "        vertical-align: top;\n",
       "    }\n",
       "\n",
       "    .dataframe thead th {\n",
       "        text-align: right;\n",
       "    }\n",
       "</style>\n",
       "<table border=\"1\" class=\"dataframe\">\n",
       "  <thead>\n",
       "    <tr style=\"text-align: right;\">\n",
       "      <th></th>\n",
       "      <th>Post Link</th>\n",
       "      <th>Title</th>\n",
       "      <th>Body</th>\n",
       "      <th>Tags</th>\n",
       "      <th>CreationDate</th>\n",
       "      <th>Answer Date</th>\n",
       "      <th>AcceptedAnswerId</th>\n",
       "      <th>id</th>\n",
       "      <th>body</th>\n",
       "      <th>score</th>\n",
       "      <th>complete_text</th>\n",
       "      <th>normalized_text</th>\n",
       "    </tr>\n",
       "  </thead>\n",
       "  <tbody>\n",
       "    <tr>\n",
       "      <th>0</th>\n",
       "      <td>11227809</td>\n",
       "      <td>Why is processing a sorted array faster than p...</td>\n",
       "      <td>&lt;p&gt;Here is a piece of C++ code that shows some...</td>\n",
       "      <td>&lt;java&gt;&lt;c++&gt;&lt;performance&gt;&lt;cpu-architecture&gt;&lt;bra...</td>\n",
       "      <td>2012-06-27 13:51:36</td>\n",
       "      <td>2012-06-27 13:56:42</td>\n",
       "      <td>11227902</td>\n",
       "      <td>11227902</td>\n",
       "      <td>&lt;p&gt;&lt;strong&gt;You are a victim of &lt;a href=\"https:...</td>\n",
       "      <td>26621</td>\n",
       "      <td>why is processing a sorted array faster than p...</td>\n",
       "      <td>process sort array faster process unsort array...</td>\n",
       "    </tr>\n",
       "    <tr>\n",
       "      <th>1</th>\n",
       "      <td>927358</td>\n",
       "      <td>How do I undo the most recent local commits in...</td>\n",
       "      <td>&lt;p&gt;I accidentally committed the wrong files to...</td>\n",
       "      <td>&lt;git&gt;&lt;version-control&gt;&lt;git-commit&gt;&lt;undo&gt;</td>\n",
       "      <td>2009-05-29 18:09:14</td>\n",
       "      <td>2009-05-29 18:13:42</td>\n",
       "      <td>927386</td>\n",
       "      <td>927386</td>\n",
       "      <td>&lt;h1&gt;Undo a commit &amp;amp; redo&lt;/h1&gt;\\n&lt;pre class=...</td>\n",
       "      <td>24809</td>\n",
       "      <td>how do i undo the most recent local commits in...</td>\n",
       "      <td>undo recent local commit git accident commit w...</td>\n",
       "    </tr>\n",
       "    <tr>\n",
       "      <th>2</th>\n",
       "      <td>2003505</td>\n",
       "      <td>How do I delete a Git branch locally and remot...</td>\n",
       "      <td>&lt;h4&gt;Failed Attempts to Delete a Remote Branch:...</td>\n",
       "      <td>&lt;git&gt;&lt;version-control&gt;&lt;git-branch&gt;&lt;git-push&gt;&lt;g...</td>\n",
       "      <td>2010-01-05 01:12:15</td>\n",
       "      <td>2010-01-05 01:13:55</td>\n",
       "      <td>2003515</td>\n",
       "      <td>2003515</td>\n",
       "      <td>&lt;h1&gt;Executive Summary&lt;/h1&gt;\\n&lt;pre&gt;&lt;code&gt;git pus...</td>\n",
       "      <td>19556</td>\n",
       "      <td>how do i delete a git branch locally and remot...</td>\n",
       "      <td>delet git branch local remot fail attempt dele...</td>\n",
       "    </tr>\n",
       "    <tr>\n",
       "      <th>3</th>\n",
       "      <td>292357</td>\n",
       "      <td>What is the difference between 'git pull' and ...</td>\n",
       "      <td>&lt;p&gt;What are the differences between &lt;a href=\"h...</td>\n",
       "      <td>&lt;git&gt;&lt;version-control&gt;&lt;git-pull&gt;&lt;git-fetch&gt;</td>\n",
       "      <td>2008-11-15 09:51:09</td>\n",
       "      <td>2008-11-15 09:52:40</td>\n",
       "      <td>292359</td>\n",
       "      <td>292359</td>\n",
       "      <td>&lt;p&gt;In the simplest terms, &lt;a href=\"http://git-...</td>\n",
       "      <td>13368</td>\n",
       "      <td>what is the difference between git pull and gi...</td>\n",
       "      <td>differ git pull git fetch differ git pull git ...</td>\n",
       "    </tr>\n",
       "    <tr>\n",
       "      <th>4</th>\n",
       "      <td>231767</td>\n",
       "      <td>What does the \"yield\" keyword do?</td>\n",
       "      <td>&lt;p&gt;What is the use of the &lt;code&gt;yield&lt;/code&gt; k...</td>\n",
       "      <td>&lt;python&gt;&lt;iterator&gt;&lt;generator&gt;</td>\n",
       "      <td>2008-10-23 22:21:11</td>\n",
       "      <td>2008-10-23 22:48:44</td>\n",
       "      <td>231855</td>\n",
       "      <td>231855</td>\n",
       "      <td>&lt;p&gt;To understand what &lt;code&gt;yield&lt;/code&gt; does,...</td>\n",
       "      <td>12259</td>\n",
       "      <td>what does the yield keyword do what is the use...</td>\n",
       "      <td>yield keyword use yield keyword python exampl ...</td>\n",
       "    </tr>\n",
       "  </tbody>\n",
       "</table>\n",
       "</div>"
      ],
      "text/plain": [
       "   Post Link                                              Title  \\\n",
       "0   11227809  Why is processing a sorted array faster than p...   \n",
       "1     927358  How do I undo the most recent local commits in...   \n",
       "2    2003505  How do I delete a Git branch locally and remot...   \n",
       "3     292357  What is the difference between 'git pull' and ...   \n",
       "4     231767                  What does the \"yield\" keyword do?   \n",
       "\n",
       "                                                Body  \\\n",
       "0  <p>Here is a piece of C++ code that shows some...   \n",
       "1  <p>I accidentally committed the wrong files to...   \n",
       "2  <h4>Failed Attempts to Delete a Remote Branch:...   \n",
       "3  <p>What are the differences between <a href=\"h...   \n",
       "4  <p>What is the use of the <code>yield</code> k...   \n",
       "\n",
       "                                                Tags         CreationDate  \\\n",
       "0  <java><c++><performance><cpu-architecture><bra...  2012-06-27 13:51:36   \n",
       "1           <git><version-control><git-commit><undo>  2009-05-29 18:09:14   \n",
       "2  <git><version-control><git-branch><git-push><g...  2010-01-05 01:12:15   \n",
       "3        <git><version-control><git-pull><git-fetch>  2008-11-15 09:51:09   \n",
       "4                      <python><iterator><generator>  2008-10-23 22:21:11   \n",
       "\n",
       "           Answer Date  AcceptedAnswerId        id  \\\n",
       "0  2012-06-27 13:56:42          11227902  11227902   \n",
       "1  2009-05-29 18:13:42            927386    927386   \n",
       "2  2010-01-05 01:13:55           2003515   2003515   \n",
       "3  2008-11-15 09:52:40            292359    292359   \n",
       "4  2008-10-23 22:48:44            231855    231855   \n",
       "\n",
       "                                                body  score  \\\n",
       "0  <p><strong>You are a victim of <a href=\"https:...  26621   \n",
       "1  <h1>Undo a commit &amp; redo</h1>\\n<pre class=...  24809   \n",
       "2  <h1>Executive Summary</h1>\\n<pre><code>git pus...  19556   \n",
       "3  <p>In the simplest terms, <a href=\"http://git-...  13368   \n",
       "4  <p>To understand what <code>yield</code> does,...  12259   \n",
       "\n",
       "                                       complete_text  \\\n",
       "0  why is processing a sorted array faster than p...   \n",
       "1  how do i undo the most recent local commits in...   \n",
       "2  how do i delete a git branch locally and remot...   \n",
       "3  what is the difference between git pull and gi...   \n",
       "4  what does the yield keyword do what is the use...   \n",
       "\n",
       "                                     normalized_text  \n",
       "0  process sort array faster process unsort array...  \n",
       "1  undo recent local commit git accident commit w...  \n",
       "2  delet git branch local remot fail attempt dele...  \n",
       "3  differ git pull git fetch differ git pull git ...  \n",
       "4  yield keyword use yield keyword python exampl ...  "
      ]
     },
     "execution_count": 6,
     "metadata": {},
     "output_type": "execute_result"
    }
   ],
   "source": [
    "df.head()"
   ]
  },
  {
   "cell_type": "markdown",
   "id": "7a7b54bb-941a-468c-82b2-c834201245f6",
   "metadata": {},
   "source": [
    "## Criando os targets"
   ]
  },
  {
   "cell_type": "code",
   "execution_count": 8,
   "id": "1257b764-39bd-4656-b221-575e7c5f9a86",
   "metadata": {},
   "outputs": [],
   "source": [
    "def split_tags(tags):\n",
    "    tags = tags[1:-1]\n",
    "    tags = tags.split(\"><\")\n",
    "    \n",
    "    return tags"
   ]
  },
  {
   "cell_type": "code",
   "execution_count": 9,
   "id": "72b70203-351f-4b4c-af6d-67830c7c1161",
   "metadata": {},
   "outputs": [],
   "source": [
    "df['targets'] = df.Tags.apply(lambda x: split_tags(x))"
   ]
  },
  {
   "cell_type": "code",
   "execution_count": 10,
   "id": "c2948744",
   "metadata": {},
   "outputs": [
    {
     "data": {
      "text/plain": [
       "0       [java, c++, performance, cpu-architecture, bra...\n",
       "1                [git, version-control, git-commit, undo]\n",
       "2       [git, version-control, git-branch, git-push, g...\n",
       "3             [git, version-control, git-pull, git-fetch]\n",
       "4                           [python, iterator, generator]\n",
       "                              ...                        \n",
       "9995             [scala, for-loop, break, tail-recursion]\n",
       "9996                                    [sql, sql-server]\n",
       "9997                         [sql, tsql, sql-server-2008]\n",
       "9998                          [android, for-loop, kotlin]\n",
       "9999                [java, java-8, java-stream, iterable]\n",
       "Name: targets, Length: 10000, dtype: object"
      ]
     },
     "execution_count": 10,
     "metadata": {},
     "output_type": "execute_result"
    }
   ],
   "source": [
    "df['targets']"
   ]
  },
  {
   "cell_type": "markdown",
   "id": "f2d47ae4",
   "metadata": {},
   "source": [
    "## 100 Tags mais usadas"
   ]
  },
  {
   "cell_type": "code",
   "execution_count": 22,
   "id": "68bfd63a",
   "metadata": {
    "scrolled": true
   },
   "outputs": [],
   "source": [
    "def calculateTagsEntries(df):\n",
    "    count = {}\n",
    "    \n",
    "    for tags in df['targets']:\n",
    "        for tag in tags:\n",
    "            if(tag not in count.keys()):\n",
    "                dataTag = {\n",
    "                    'entries': 1,\n",
    "                }\n",
    "                count[tag] = dataTag\n",
    "            else:\n",
    "                count[tag]['entries'] += 1\n",
    "    return count\n",
    "\n",
    "def sortTags(count):\n",
    "    return dict(sorted(count.items(), key=lambda item: -item[1]['entries']))"
   ]
  },
  {
   "cell_type": "code",
   "execution_count": 24,
   "id": "795a2111",
   "metadata": {},
   "outputs": [],
   "source": [
    "classes = []\n",
    "\n",
    "def createClassesColumn(df):\n",
    "    for documentTags in df['targets']:\n",
    "        wasInDocumentTags = False\n",
    "\n",
    "        for documentTag in documentTags:\n",
    "            if(documentTag in MostUsedTags):\n",
    "                wasInDocumentTags = True\n",
    "                classes.append(documentTag)\n",
    "                break\n",
    "        if(not wasInDocumentTags):\n",
    "            classes.append('unknown-tag')\n",
    "    df['class'] = classes    "
   ]
  },
  {
   "cell_type": "code",
   "execution_count": 25,
   "id": "15a4ce07",
   "metadata": {},
   "outputs": [],
   "source": [
    "MostUsedTags = list(sortTags(calculateTagsEntries(df)).keys())[:100]\n",
    "createClassesColumn(df)"
   ]
  },
  {
   "cell_type": "code",
   "execution_count": 41,
   "id": "152c69a4-29d2-4fd5-a22c-81febbf7c69b",
   "metadata": {},
   "outputs": [],
   "source": [
    " y = df['class']"
   ]
  },
  {
   "cell_type": "code",
   "execution_count": 86,
   "id": "98fc11cb-129c-4245-8e06-dbe00880ab6f",
   "metadata": {
    "scrolled": true
   },
   "outputs": [
    {
     "data": {
      "text/plain": [
       "0              java\n",
       "1               git\n",
       "2               git\n",
       "3               git\n",
       "4            python\n",
       "           ...     \n",
       "9995    unknown-tag\n",
       "9996            sql\n",
       "9997            sql\n",
       "9998        android\n",
       "9999           java\n",
       "Name: class, Length: 10000, dtype: object"
      ]
     },
     "execution_count": 86,
     "metadata": {},
     "output_type": "execute_result"
    }
   ],
   "source": [
    "y"
   ]
  },
  {
   "cell_type": "code",
   "execution_count": 36,
   "id": "5aae3408-0d12-49eb-924f-da1b9581c89c",
   "metadata": {},
   "outputs": [],
   "source": [
    "targets_set = set(MostUsedTags + ['unknown-tag'])"
   ]
  },
  {
   "cell_type": "code",
   "execution_count": 37,
   "id": "b598615f-7d10-4c27-9fe3-170b110a6449",
   "metadata": {
    "scrolled": true,
    "tags": []
   },
   "outputs": [
    {
     "data": {
      "text/plain": [
       "101"
      ]
     },
     "execution_count": 37,
     "metadata": {},
     "output_type": "execute_result"
    }
   ],
   "source": [
    "len(targets_set)"
   ]
  },
  {
   "cell_type": "code",
   "execution_count": 38,
   "id": "f73d9b93-40f1-4f5a-ab80-400f4a8ca3a9",
   "metadata": {
    "scrolled": true,
    "tags": []
   },
   "outputs": [
    {
     "data": {
      "text/plain": [
       "{'.net',\n",
       " 'ajax',\n",
       " 'algorithm',\n",
       " 'android',\n",
       " 'android-studio',\n",
       " 'angular',\n",
       " 'angularjs',\n",
       " 'arrays',\n",
       " 'asp.net',\n",
       " 'asp.net-mvc',\n",
       " 'bash',\n",
       " 'branch',\n",
       " 'c',\n",
       " 'c#',\n",
       " 'c++',\n",
       " 'c++-faq',\n",
       " 'class',\n",
       " 'cocoa-touch',\n",
       " 'collections',\n",
       " 'command-line',\n",
       " 'css',\n",
       " 'database',\n",
       " 'dataframe',\n",
       " 'date',\n",
       " 'datetime',\n",
       " 'debugging',\n",
       " 'dictionary',\n",
       " 'directory',\n",
       " 'django',\n",
       " 'docker',\n",
       " 'dom',\n",
       " 'eclipse',\n",
       " 'enums',\n",
       " 'exception',\n",
       " 'file',\n",
       " 'file-io',\n",
       " 'function',\n",
       " 'generics',\n",
       " 'git',\n",
       " 'git-branch',\n",
       " 'github',\n",
       " 'google-chrome',\n",
       " 'html',\n",
       " 'http',\n",
       " 'ios',\n",
       " 'java',\n",
       " 'java-8',\n",
       " 'javascript',\n",
       " 'jquery',\n",
       " 'json',\n",
       " 'language-agnostic',\n",
       " 'linq',\n",
       " 'linux',\n",
       " 'list',\n",
       " 'loops',\n",
       " 'macos',\n",
       " 'multithreading',\n",
       " 'mysql',\n",
       " 'node.js',\n",
       " 'npm',\n",
       " 'numpy',\n",
       " 'object',\n",
       " 'objective-c',\n",
       " 'oop',\n",
       " 'pandas',\n",
       " 'performance',\n",
       " 'php',\n",
       " 'postgresql',\n",
       " 'python',\n",
       " 'python-3.x',\n",
       " 'r',\n",
       " 'reactjs',\n",
       " 'regex',\n",
       " 'rest',\n",
       " 'ruby',\n",
       " 'ruby-on-rails',\n",
       " 'security',\n",
       " 'shell',\n",
       " 'sorting',\n",
       " 'sql',\n",
       " 'sql-server',\n",
       " 'string',\n",
       " 'swift',\n",
       " 'syntax',\n",
       " 'terminology',\n",
       " 'tsql',\n",
       " 'twitter-bootstrap',\n",
       " 'types',\n",
       " 'typescript',\n",
       " 'unit-testing',\n",
       " 'unix',\n",
       " 'unknown-tag',\n",
       " 'url',\n",
       " 'variables',\n",
       " 'version-control',\n",
       " 'vim',\n",
       " 'visual-studio',\n",
       " 'visual-studio-code',\n",
       " 'windows',\n",
       " 'xcode',\n",
       " 'xml'}"
      ]
     },
     "execution_count": 38,
     "metadata": {},
     "output_type": "execute_result"
    }
   ],
   "source": [
    "targets_set"
   ]
  },
  {
   "cell_type": "code",
   "execution_count": 69,
   "id": "5eeeaaa2",
   "metadata": {},
   "outputs": [],
   "source": [
    "def buildMulticlassTestArrays(targets_set, tags):\n",
    "    entries = []\n",
    "    for tagList in tags:\n",
    "        entry = []\n",
    "        for target in targets_set:\n",
    "            if(target in tagList):\n",
    "                entry.append(1)\n",
    "            else:\n",
    "                entry.append(0)\n",
    "        entries.append(entry)\n",
    "    return entries"
   ]
  },
  {
   "cell_type": "code",
   "execution_count": 42,
   "id": "742bf62f-84f5-47f3-ae4a-065622e6e904",
   "metadata": {},
   "outputs": [],
   "source": [
    "words_post = df.normalized_text.apply(lambda x: str(x))\n",
    "\n",
    "from sklearn.feature_extraction.text import CountVectorizer\n",
    "from sklearn.feature_extraction.text import TfidfVectorizer\n",
    "\n",
    "vectorizer = TfidfVectorizer()\n",
    "vectorizer.fit(words_post)\n",
    "X = vectorizer.transform(words_post)"
   ]
  },
  {
   "cell_type": "code",
   "execution_count": 40,
   "id": "fbaab523-044c-4fd8-9afe-97842d25ccf7",
   "metadata": {},
   "outputs": [
    {
     "data": {
      "text/plain": [
       "0"
      ]
     },
     "execution_count": 40,
     "metadata": {},
     "output_type": "execute_result"
    }
   ],
   "source": [
    "import gc\n",
    "\n",
    "gc.collect()"
   ]
  },
  {
   "cell_type": "code",
   "execution_count": 65,
   "id": "e0a64891-3d01-4ad2-9f58-946ae36b19c2",
   "metadata": {},
   "outputs": [],
   "source": [
    "from sklearn.model_selection import train_test_split\n",
    "    \n",
    "X_train, X_test, y_train, y_test = train_test_split(X, y, test_size=0.2, random_state=42)\n",
    "y_test = y_test.apply(lambda x: [x])"
   ]
  },
  {
   "cell_type": "code",
   "execution_count": 48,
   "id": "083b90b0-bf99-4204-a863-8cc1bd0101eb",
   "metadata": {},
   "outputs": [
    {
     "data": {
      "text/plain": [
       "RandomForestClassifier(n_jobs=1, random_state=44)"
      ]
     },
     "execution_count": 48,
     "metadata": {},
     "output_type": "execute_result"
    }
   ],
   "source": [
    "from sklearn.ensemble import RandomForestClassifier\n",
    "# rf_model = RandomForestClassifier(max_features=\"auto\", n_jobs=1,random_state=44)\n",
    "rf_model = RandomForestClassifier(max_features=\"auto\", n_jobs=1,random_state=44)\n",
    "rf_model.fit(X_train, y_train)"
   ]
  },
  {
   "cell_type": "code",
   "execution_count": 78,
   "id": "8c919444-9c59-47b1-8da7-70b12744df24",
   "metadata": {},
   "outputs": [],
   "source": [
    "y_pred = rf_model.predict_proba(X_test)\n",
    "y_test = buildMulticlassTestArrays(targets_set, y_test)"
   ]
  },
  {
   "cell_type": "code",
   "execution_count": 54,
   "id": "d99c32f8-810a-485d-8aa1-ddc08c76e618",
   "metadata": {},
   "outputs": [
    {
     "data": {
      "text/plain": [
       "168"
      ]
     },
     "execution_count": 54,
     "metadata": {},
     "output_type": "execute_result"
    }
   ],
   "source": [
    "gc.collect()"
   ]
  },
  {
   "cell_type": "code",
   "execution_count": 85,
   "id": "811ffc7b",
   "metadata": {},
   "outputs": [
    {
     "data": {
      "text/plain": [
       "2000"
      ]
     },
     "execution_count": 85,
     "metadata": {},
     "output_type": "execute_result"
    }
   ],
   "source": [
    "len(np.argmax(y_test, axis=1))"
   ]
  },
  {
   "cell_type": "code",
   "execution_count": 80,
   "id": "6de86add-cfa6-4b3e-9167-2cd297e01919",
   "metadata": {
    "scrolled": true,
    "tags": []
   },
   "outputs": [
    {
     "ename": "ValueError",
     "evalue": "multilabel-indicator is not supported",
     "output_type": "error",
     "traceback": [
      "\u001b[1;31m---------------------------------------------------------------------------\u001b[0m",
      "\u001b[1;31mValueError\u001b[0m                                Traceback (most recent call last)",
      "Input \u001b[1;32mIn [80]\u001b[0m, in \u001b[0;36m<cell line: 3>\u001b[1;34m()\u001b[0m\n\u001b[0;32m      1\u001b[0m \u001b[38;5;28;01mfrom\u001b[39;00m \u001b[38;5;21;01msklearn\u001b[39;00m\u001b[38;5;21;01m.\u001b[39;00m\u001b[38;5;21;01mmetrics\u001b[39;00m \u001b[38;5;28;01mimport\u001b[39;00m classification_report, confusion_matrix, accuracy_score\n\u001b[1;32m----> 3\u001b[0m \u001b[38;5;28mprint\u001b[39m(\u001b[43mconfusion_matrix\u001b[49m\u001b[43m(\u001b[49m\u001b[43my_test\u001b[49m\u001b[43m,\u001b[49m\u001b[43my_test\u001b[49m\u001b[43m)\u001b[49m)\n\u001b[0;32m      4\u001b[0m \u001b[38;5;28mprint\u001b[39m(classification_report(y_test,y_pred))\n\u001b[0;32m      5\u001b[0m \u001b[38;5;28mprint\u001b[39m(accuracy_score(y_test, y_pred))\n",
      "File \u001b[1;32m~\\anaconda3\\lib\\site-packages\\sklearn\\metrics\\_classification.py:309\u001b[0m, in \u001b[0;36mconfusion_matrix\u001b[1;34m(y_true, y_pred, labels, sample_weight, normalize)\u001b[0m\n\u001b[0;32m    307\u001b[0m y_type, y_true, y_pred \u001b[38;5;241m=\u001b[39m _check_targets(y_true, y_pred)\n\u001b[0;32m    308\u001b[0m \u001b[38;5;28;01mif\u001b[39;00m y_type \u001b[38;5;129;01mnot\u001b[39;00m \u001b[38;5;129;01min\u001b[39;00m (\u001b[38;5;124m\"\u001b[39m\u001b[38;5;124mbinary\u001b[39m\u001b[38;5;124m\"\u001b[39m, \u001b[38;5;124m\"\u001b[39m\u001b[38;5;124mmulticlass\u001b[39m\u001b[38;5;124m\"\u001b[39m):\n\u001b[1;32m--> 309\u001b[0m     \u001b[38;5;28;01mraise\u001b[39;00m \u001b[38;5;167;01mValueError\u001b[39;00m(\u001b[38;5;124m\"\u001b[39m\u001b[38;5;132;01m%s\u001b[39;00m\u001b[38;5;124m is not supported\u001b[39m\u001b[38;5;124m\"\u001b[39m \u001b[38;5;241m%\u001b[39m y_type)\n\u001b[0;32m    311\u001b[0m \u001b[38;5;28;01mif\u001b[39;00m labels \u001b[38;5;129;01mis\u001b[39;00m \u001b[38;5;28;01mNone\u001b[39;00m:\n\u001b[0;32m    312\u001b[0m     labels \u001b[38;5;241m=\u001b[39m unique_labels(y_true, y_pred)\n",
      "\u001b[1;31mValueError\u001b[0m: multilabel-indicator is not supported"
     ]
    }
   ],
   "source": [
    "from sklearn.metrics import classification_report, confusion_matrix, accuracy_score\n",
    "\n",
    "print(confusion_matrix(y_test,y_test))\n",
    "print(classification_report(y_test,y_pred))\n",
    "print(accuracy_score(y_test, y_pred))"
   ]
  },
  {
   "cell_type": "code",
   "execution_count": 20,
   "id": "4eb592be-d6d7-438e-80da-d7086d83dc28",
   "metadata": {},
   "outputs": [
    {
     "data": {
      "text/plain": [
       "100"
      ]
     },
     "execution_count": 20,
     "metadata": {},
     "output_type": "execute_result"
    }
   ],
   "source": [
    "# rf_model.base_estimator_\n",
    "# rf_model.estimators_\n",
    "len(rf_model.estimators_)"
   ]
  },
  {
   "cell_type": "code",
   "execution_count": 21,
   "id": "072bd42c-ec5c-4f02-8666-8e25719ab03e",
   "metadata": {},
   "outputs": [],
   "source": [
    "# import pickle\n",
    "# s = pickle.dumps(rf_model)\n",
    "# rf_model_2 = pickle.loads(s)"
   ]
  },
  {
   "cell_type": "code",
   "execution_count": 22,
   "id": "324f3df3-0694-4098-a0a7-200933c13db8",
   "metadata": {},
   "outputs": [],
   "source": [
    "# from joblib import dump, load\n",
    "# dump(rf_model, 'rf_model.joblib') "
   ]
  },
  {
   "cell_type": "code",
   "execution_count": 52,
   "id": "77608051-ccf9-44d2-a2c1-bf78b493b109",
   "metadata": {},
   "outputs": [
    {
     "name": "stderr",
     "output_type": "stream",
     "text": [
      "C:\\Users\\Vitor\\anaconda3\\lib\\site-packages\\sklearn\\model_selection\\_split.py:676: UserWarning: The least populated class in y has only 1 members, which is less than n_splits=5.\n",
      "  warnings.warn(\n"
     ]
    },
    {
     "data": {
      "text/plain": [
       "0.63875"
      ]
     },
     "execution_count": 52,
     "metadata": {},
     "output_type": "execute_result"
    }
   ],
   "source": [
    "from sklearn.model_selection import cross_val_score\n",
    "import numpy as np\n",
    "\n",
    "np.mean(cross_val_score(rf_model, X_train, y_train, cv=5))"
   ]
  },
  {
   "cell_type": "code",
   "execution_count": null,
   "id": "62348a8e-6ebb-4d2b-b63c-98e812afa4f9",
   "metadata": {},
   "outputs": [],
   "source": []
  }
 ],
 "metadata": {
  "kernelspec": {
   "display_name": "Python 3 (ipykernel)",
   "language": "python",
   "name": "python3"
  },
  "language_info": {
   "codemirror_mode": {
    "name": "ipython",
    "version": 3
   },
   "file_extension": ".py",
   "mimetype": "text/x-python",
   "name": "python",
   "nbconvert_exporter": "python",
   "pygments_lexer": "ipython3",
   "version": "3.9.12"
  }
 },
 "nbformat": 4,
 "nbformat_minor": 5
}

{
 "cells": [
  {
   "cell_type": "code",
   "execution_count": 3,
   "id": "00237f5c-b98a-47ff-85aa-e6975a02f1c5",
   "metadata": {},
   "outputs": [],
   "source": [
    "import os\n",
    "\n",
    "cwd = os.getcwd()"
   ]
  },
  {
   "cell_type": "code",
   "execution_count": 5,
   "id": "e67fcd87-1304-4135-af00-114f62b62965",
   "metadata": {},
   "outputs": [],
   "source": [
    "import pandas as pd\n",
    "\n",
    "\n",
    "df = pd.read_csv(cwd + '/data/processed/posts_clean_short.csv')"
   ]
  },
  {
   "cell_type": "code",
   "execution_count": 6,
   "id": "a455aca8-f5d6-4d6e-bd44-0f2964db7c12",
   "metadata": {},
   "outputs": [
    {
     "data": {
      "text/html": [
       "<div>\n",
       "<style scoped>\n",
       "    .dataframe tbody tr th:only-of-type {\n",
       "        vertical-align: middle;\n",
       "    }\n",
       "\n",
       "    .dataframe tbody tr th {\n",
       "        vertical-align: top;\n",
       "    }\n",
       "\n",
       "    .dataframe thead th {\n",
       "        text-align: right;\n",
       "    }\n",
       "</style>\n",
       "<table border=\"1\" class=\"dataframe\">\n",
       "  <thead>\n",
       "    <tr style=\"text-align: right;\">\n",
       "      <th></th>\n",
       "      <th>Post Link</th>\n",
       "      <th>Title</th>\n",
       "      <th>Body</th>\n",
       "      <th>Tags</th>\n",
       "      <th>CreationDate</th>\n",
       "      <th>Answer Date</th>\n",
       "      <th>AcceptedAnswerId</th>\n",
       "      <th>id</th>\n",
       "      <th>body</th>\n",
       "      <th>score</th>\n",
       "      <th>complete_text</th>\n",
       "      <th>normalized_text</th>\n",
       "    </tr>\n",
       "  </thead>\n",
       "  <tbody>\n",
       "    <tr>\n",
       "      <th>0</th>\n",
       "      <td>11227809</td>\n",
       "      <td>Why is processing a sorted array faster than p...</td>\n",
       "      <td>&lt;p&gt;Here is a piece of C++ code that shows some...</td>\n",
       "      <td>&lt;java&gt;&lt;c++&gt;&lt;performance&gt;&lt;cpu-architecture&gt;&lt;bra...</td>\n",
       "      <td>2012-06-27 13:51:36</td>\n",
       "      <td>2012-06-27 13:56:42</td>\n",
       "      <td>11227902</td>\n",
       "      <td>11227902</td>\n",
       "      <td>&lt;p&gt;&lt;strong&gt;You are a victim of &lt;a href=\"https:...</td>\n",
       "      <td>26621</td>\n",
       "      <td>why is processing a sorted array faster than p...</td>\n",
       "      <td>process sort array faster process unsort array...</td>\n",
       "    </tr>\n",
       "    <tr>\n",
       "      <th>1</th>\n",
       "      <td>927358</td>\n",
       "      <td>How do I undo the most recent local commits in...</td>\n",
       "      <td>&lt;p&gt;I accidentally committed the wrong files to...</td>\n",
       "      <td>&lt;git&gt;&lt;version-control&gt;&lt;git-commit&gt;&lt;undo&gt;</td>\n",
       "      <td>2009-05-29 18:09:14</td>\n",
       "      <td>2009-05-29 18:13:42</td>\n",
       "      <td>927386</td>\n",
       "      <td>927386</td>\n",
       "      <td>&lt;h1&gt;Undo a commit &amp;amp; redo&lt;/h1&gt;\\n&lt;pre class=...</td>\n",
       "      <td>24809</td>\n",
       "      <td>how do i undo the most recent local commits in...</td>\n",
       "      <td>undo recent local commit git accident commit w...</td>\n",
       "    </tr>\n",
       "    <tr>\n",
       "      <th>2</th>\n",
       "      <td>2003505</td>\n",
       "      <td>How do I delete a Git branch locally and remot...</td>\n",
       "      <td>&lt;h4&gt;Failed Attempts to Delete a Remote Branch:...</td>\n",
       "      <td>&lt;git&gt;&lt;version-control&gt;&lt;git-branch&gt;&lt;git-push&gt;&lt;g...</td>\n",
       "      <td>2010-01-05 01:12:15</td>\n",
       "      <td>2010-01-05 01:13:55</td>\n",
       "      <td>2003515</td>\n",
       "      <td>2003515</td>\n",
       "      <td>&lt;h1&gt;Executive Summary&lt;/h1&gt;\\n&lt;pre&gt;&lt;code&gt;git pus...</td>\n",
       "      <td>19556</td>\n",
       "      <td>how do i delete a git branch locally and remot...</td>\n",
       "      <td>delet git branch local remot fail attempt dele...</td>\n",
       "    </tr>\n",
       "    <tr>\n",
       "      <th>3</th>\n",
       "      <td>292357</td>\n",
       "      <td>What is the difference between 'git pull' and ...</td>\n",
       "      <td>&lt;p&gt;What are the differences between &lt;a href=\"h...</td>\n",
       "      <td>&lt;git&gt;&lt;version-control&gt;&lt;git-pull&gt;&lt;git-fetch&gt;</td>\n",
       "      <td>2008-11-15 09:51:09</td>\n",
       "      <td>2008-11-15 09:52:40</td>\n",
       "      <td>292359</td>\n",
       "      <td>292359</td>\n",
       "      <td>&lt;p&gt;In the simplest terms, &lt;a href=\"http://git-...</td>\n",
       "      <td>13368</td>\n",
       "      <td>what is the difference between git pull and gi...</td>\n",
       "      <td>differ git pull git fetch differ git pull git ...</td>\n",
       "    </tr>\n",
       "    <tr>\n",
       "      <th>4</th>\n",
       "      <td>231767</td>\n",
       "      <td>What does the \"yield\" keyword do?</td>\n",
       "      <td>&lt;p&gt;What is the use of the &lt;code&gt;yield&lt;/code&gt; k...</td>\n",
       "      <td>&lt;python&gt;&lt;iterator&gt;&lt;generator&gt;</td>\n",
       "      <td>2008-10-23 22:21:11</td>\n",
       "      <td>2008-10-23 22:48:44</td>\n",
       "      <td>231855</td>\n",
       "      <td>231855</td>\n",
       "      <td>&lt;p&gt;To understand what &lt;code&gt;yield&lt;/code&gt; does,...</td>\n",
       "      <td>12259</td>\n",
       "      <td>what does the yield keyword do what is the use...</td>\n",
       "      <td>yield keyword use yield keyword python exampl ...</td>\n",
       "    </tr>\n",
       "  </tbody>\n",
       "</table>\n",
       "</div>"
      ],
      "text/plain": [
       "   Post Link                                              Title  \\\n",
       "0   11227809  Why is processing a sorted array faster than p...   \n",
       "1     927358  How do I undo the most recent local commits in...   \n",
       "2    2003505  How do I delete a Git branch locally and remot...   \n",
       "3     292357  What is the difference between 'git pull' and ...   \n",
       "4     231767                  What does the \"yield\" keyword do?   \n",
       "\n",
       "                                                Body  \\\n",
       "0  <p>Here is a piece of C++ code that shows some...   \n",
       "1  <p>I accidentally committed the wrong files to...   \n",
       "2  <h4>Failed Attempts to Delete a Remote Branch:...   \n",
       "3  <p>What are the differences between <a href=\"h...   \n",
       "4  <p>What is the use of the <code>yield</code> k...   \n",
       "\n",
       "                                                Tags         CreationDate  \\\n",
       "0  <java><c++><performance><cpu-architecture><bra...  2012-06-27 13:51:36   \n",
       "1           <git><version-control><git-commit><undo>  2009-05-29 18:09:14   \n",
       "2  <git><version-control><git-branch><git-push><g...  2010-01-05 01:12:15   \n",
       "3        <git><version-control><git-pull><git-fetch>  2008-11-15 09:51:09   \n",
       "4                      <python><iterator><generator>  2008-10-23 22:21:11   \n",
       "\n",
       "           Answer Date  AcceptedAnswerId        id  \\\n",
       "0  2012-06-27 13:56:42          11227902  11227902   \n",
       "1  2009-05-29 18:13:42            927386    927386   \n",
       "2  2010-01-05 01:13:55           2003515   2003515   \n",
       "3  2008-11-15 09:52:40            292359    292359   \n",
       "4  2008-10-23 22:48:44            231855    231855   \n",
       "\n",
       "                                                body  score  \\\n",
       "0  <p><strong>You are a victim of <a href=\"https:...  26621   \n",
       "1  <h1>Undo a commit &amp; redo</h1>\\n<pre class=...  24809   \n",
       "2  <h1>Executive Summary</h1>\\n<pre><code>git pus...  19556   \n",
       "3  <p>In the simplest terms, <a href=\"http://git-...  13368   \n",
       "4  <p>To understand what <code>yield</code> does,...  12259   \n",
       "\n",
       "                                       complete_text  \\\n",
       "0  why is processing a sorted array faster than p...   \n",
       "1  how do i undo the most recent local commits in...   \n",
       "2  how do i delete a git branch locally and remot...   \n",
       "3  what is the difference between git pull and gi...   \n",
       "4  what does the yield keyword do what is the use...   \n",
       "\n",
       "                                     normalized_text  \n",
       "0  process sort array faster process unsort array...  \n",
       "1  undo recent local commit git accident commit w...  \n",
       "2  delet git branch local remot fail attempt dele...  \n",
       "3  differ git pull git fetch differ git pull git ...  \n",
       "4  yield keyword use yield keyword python exampl ...  "
      ]
     },
     "execution_count": 6,
     "metadata": {},
     "output_type": "execute_result"
    }
   ],
   "source": [
    "df.head()"
   ]
  },
  {
   "cell_type": "markdown",
   "id": "7a7b54bb-941a-468c-82b2-c834201245f6",
   "metadata": {},
   "source": [
    "## Criando os targets"
   ]
  },
  {
   "cell_type": "code",
   "execution_count": 8,
   "id": "1257b764-39bd-4656-b221-575e7c5f9a86",
   "metadata": {},
   "outputs": [],
   "source": [
    "def split_tags(tags):\n",
    "    tags = tags[1:-1]\n",
    "    tags = tags.split(\"><\")\n",
    "    \n",
    "    return tags"
   ]
  },
  {
   "cell_type": "code",
   "execution_count": 9,
   "id": "72b70203-351f-4b4c-af6d-67830c7c1161",
   "metadata": {},
   "outputs": [],
   "source": [
    "df['targets'] = df.Tags.apply(lambda x: split_tags(x))"
   ]
  },
  {
   "cell_type": "code",
   "execution_count": 10,
   "id": "c2948744",
   "metadata": {},
   "outputs": [
    {
     "data": {
      "text/plain": [
       "0       [java, c++, performance, cpu-architecture, bra...\n",
       "1                [git, version-control, git-commit, undo]\n",
       "2       [git, version-control, git-branch, git-push, g...\n",
       "3             [git, version-control, git-pull, git-fetch]\n",
       "4                           [python, iterator, generator]\n",
       "                              ...                        \n",
       "9995             [scala, for-loop, break, tail-recursion]\n",
       "9996                                    [sql, sql-server]\n",
       "9997                         [sql, tsql, sql-server-2008]\n",
       "9998                          [android, for-loop, kotlin]\n",
       "9999                [java, java-8, java-stream, iterable]\n",
       "Name: targets, Length: 10000, dtype: object"
      ]
     },
     "execution_count": 10,
     "metadata": {},
     "output_type": "execute_result"
    }
   ],
   "source": [
    "df['targets']"
   ]
  },
  {
   "cell_type": "markdown",
   "id": "f2d47ae4",
   "metadata": {},
   "source": [
    "## 100 Tags mais usadas"
   ]
  },
  {
   "cell_type": "code",
   "execution_count": 22,
   "id": "68bfd63a",
   "metadata": {
    "scrolled": true
   },
   "outputs": [],
   "source": [
    "def calculateTagsEntries(df):\n",
    "    count = {}\n",
    "    \n",
    "    for tags in df['targets']:\n",
    "        for tag in tags:\n",
    "            if(tag not in count.keys()):\n",
    "                dataTag = {\n",
    "                    'entries': 1,\n",
    "                }\n",
    "                count[tag] = dataTag\n",
    "            else:\n",
    "                count[tag]['entries'] += 1\n",
    "    return count\n",
    "\n",
    "def sortTags(count):\n",
    "    return dict(sorted(count.items(), key=lambda item: -item[1]['entries']))"
   ]
  },
  {
   "cell_type": "code",
   "execution_count": 24,
   "id": "795a2111",
   "metadata": {},
   "outputs": [],
   "source": [
    "classes = []\n",
    "\n",
    "def createClassesColumn(df):\n",
    "    for documentTags in df['targets']:\n",
    "        wasInDocumentTags = False\n",
    "\n",
    "        for documentTag in documentTags:\n",
    "            if(documentTag in MostUsedTags):\n",
    "                wasInDocumentTags = True\n",
    "                classes.append(documentTag)\n",
    "                break\n",
    "        if(not wasInDocumentTags):\n",
    "            classes.append('unknown-tag')\n",
    "    df['class'] = classes    "
   ]
  },
  {
   "cell_type": "code",
   "execution_count": 25,
   "id": "15a4ce07",
   "metadata": {},
   "outputs": [],
   "source": [
    "MostUsedTags = list(sortTags(calculateTagsEntries(df)).keys())[:100]\n",
    "createClassesColumn(df)"
   ]
  },
  {
   "cell_type": "code",
   "execution_count": 87,
   "id": "152c69a4-29d2-4fd5-a22c-81febbf7c69b",
   "metadata": {},
   "outputs": [],
   "source": [
    " y = df['class']"
   ]
  },
  {
   "cell_type": "code",
   "execution_count": 86,
   "id": "98fc11cb-129c-4245-8e06-dbe00880ab6f",
   "metadata": {
    "scrolled": true
   },
   "outputs": [
    {
     "data": {
      "text/plain": [
       "0              java\n",
       "1               git\n",
       "2               git\n",
       "3               git\n",
       "4            python\n",
       "           ...     \n",
       "9995    unknown-tag\n",
       "9996            sql\n",
       "9997            sql\n",
       "9998        android\n",
       "9999           java\n",
       "Name: class, Length: 10000, dtype: object"
      ]
     },
     "execution_count": 86,
     "metadata": {},
     "output_type": "execute_result"
    }
   ],
   "source": [
    "y"
   ]
  },
  {
   "cell_type": "code",
   "execution_count": 36,
   "id": "5aae3408-0d12-49eb-924f-da1b9581c89c",
   "metadata": {},
   "outputs": [],
   "source": [
    "targets_set = set(MostUsedTags + ['unknown-tag'])"
   ]
  },
  {
   "cell_type": "code",
   "execution_count": 37,
   "id": "b598615f-7d10-4c27-9fe3-170b110a6449",
   "metadata": {
    "scrolled": true,
    "tags": []
   },
   "outputs": [
    {
     "data": {
      "text/plain": [
       "101"
      ]
     },
     "execution_count": 37,
     "metadata": {},
     "output_type": "execute_result"
    }
   ],
   "source": [
    "len(targets_set)"
   ]
  },
  {
   "cell_type": "code",
   "execution_count": 38,
   "id": "f73d9b93-40f1-4f5a-ab80-400f4a8ca3a9",
   "metadata": {
    "scrolled": true,
    "tags": []
   },
   "outputs": [
    {
     "data": {
      "text/plain": [
       "{'.net',\n",
       " 'ajax',\n",
       " 'algorithm',\n",
       " 'android',\n",
       " 'android-studio',\n",
       " 'angular',\n",
       " 'angularjs',\n",
       " 'arrays',\n",
       " 'asp.net',\n",
       " 'asp.net-mvc',\n",
       " 'bash',\n",
       " 'branch',\n",
       " 'c',\n",
       " 'c#',\n",
       " 'c++',\n",
       " 'c++-faq',\n",
       " 'class',\n",
       " 'cocoa-touch',\n",
       " 'collections',\n",
       " 'command-line',\n",
       " 'css',\n",
       " 'database',\n",
       " 'dataframe',\n",
       " 'date',\n",
       " 'datetime',\n",
       " 'debugging',\n",
       " 'dictionary',\n",
       " 'directory',\n",
       " 'django',\n",
       " 'docker',\n",
       " 'dom',\n",
       " 'eclipse',\n",
       " 'enums',\n",
       " 'exception',\n",
       " 'file',\n",
       " 'file-io',\n",
       " 'function',\n",
       " 'generics',\n",
       " 'git',\n",
       " 'git-branch',\n",
       " 'github',\n",
       " 'google-chrome',\n",
       " 'html',\n",
       " 'http',\n",
       " 'ios',\n",
       " 'java',\n",
       " 'java-8',\n",
       " 'javascript',\n",
       " 'jquery',\n",
       " 'json',\n",
       " 'language-agnostic',\n",
       " 'linq',\n",
       " 'linux',\n",
       " 'list',\n",
       " 'loops',\n",
       " 'macos',\n",
       " 'multithreading',\n",
       " 'mysql',\n",
       " 'node.js',\n",
       " 'npm',\n",
       " 'numpy',\n",
       " 'object',\n",
       " 'objective-c',\n",
       " 'oop',\n",
       " 'pandas',\n",
       " 'performance',\n",
       " 'php',\n",
       " 'postgresql',\n",
       " 'python',\n",
       " 'python-3.x',\n",
       " 'r',\n",
       " 'reactjs',\n",
       " 'regex',\n",
       " 'rest',\n",
       " 'ruby',\n",
       " 'ruby-on-rails',\n",
       " 'security',\n",
       " 'shell',\n",
       " 'sorting',\n",
       " 'sql',\n",
       " 'sql-server',\n",
       " 'string',\n",
       " 'swift',\n",
       " 'syntax',\n",
       " 'terminology',\n",
       " 'tsql',\n",
       " 'twitter-bootstrap',\n",
       " 'types',\n",
       " 'typescript',\n",
       " 'unit-testing',\n",
       " 'unix',\n",
       " 'unknown-tag',\n",
       " 'url',\n",
       " 'variables',\n",
       " 'version-control',\n",
       " 'vim',\n",
       " 'visual-studio',\n",
       " 'visual-studio-code',\n",
       " 'windows',\n",
       " 'xcode',\n",
       " 'xml'}"
      ]
     },
     "execution_count": 38,
     "metadata": {},
     "output_type": "execute_result"
    }
   ],
   "source": [
    "targets_set"
   ]
  },
  {
   "cell_type": "code",
   "execution_count": 69,
   "id": "5eeeaaa2",
   "metadata": {},
   "outputs": [],
   "source": [
    "def buildMulticlassTestArrays(targets_set, tags):\n",
    "    entries = []\n",
    "    for tagList in tags:\n",
    "        entry = []\n",
    "        for target in targets_set:\n",
    "            if(target in tagList):\n",
    "                entry.append(1)\n",
    "            else:\n",
    "                entry.append(0)\n",
    "        entries.append(entry)\n",
    "    return entries"
   ]
  },
  {
   "cell_type": "code",
   "execution_count": 88,
   "id": "742bf62f-84f5-47f3-ae4a-065622e6e904",
   "metadata": {},
   "outputs": [],
   "source": [
    "words_post = df.normalized_text.apply(lambda x: str(x))\n",
    "\n",
    "from sklearn.feature_extraction.text import CountVectorizer\n",
    "from sklearn.feature_extraction.text import TfidfVectorizer\n",
    "\n",
    "vectorizer = TfidfVectorizer()\n",
    "vectorizer.fit(words_post)\n",
    "X = vectorizer.transform(words_post)"
   ]
  },
  {
   "cell_type": "code",
   "execution_count": 89,
   "id": "fbaab523-044c-4fd8-9afe-97842d25ccf7",
   "metadata": {},
   "outputs": [
    {
     "data": {
      "text/plain": [
       "1970"
      ]
     },
     "execution_count": 89,
     "metadata": {},
     "output_type": "execute_result"
    }
   ],
   "source": [
    "import gc\n",
    "\n",
    "gc.collect()"
   ]
  },
  {
   "cell_type": "code",
   "execution_count": 90,
   "id": "e0a64891-3d01-4ad2-9f58-946ae36b19c2",
   "metadata": {},
   "outputs": [],
   "source": [
    "from sklearn.model_selection import train_test_split\n",
    "    \n",
    "X_train, X_test, y_train, y_test = train_test_split(X, y, test_size=0.2, random_state=42)\n",
    "#y_test = y_test.apply(lambda x: [x])"
   ]
  },
  {
   "cell_type": "code",
   "execution_count": 91,
   "id": "083b90b0-bf99-4204-a863-8cc1bd0101eb",
   "metadata": {},
   "outputs": [
    {
     "data": {
      "text/plain": [
       "RandomForestClassifier(n_jobs=1, random_state=44)"
      ]
     },
     "execution_count": 91,
     "metadata": {},
     "output_type": "execute_result"
    }
   ],
   "source": [
    "from sklearn.ensemble import RandomForestClassifier\n",
    "# rf_model = RandomForestClassifier(max_features=\"auto\", n_jobs=1,random_state=44)\n",
    "rf_model = RandomForestClassifier(max_features=\"auto\", n_jobs=1,random_state=44)\n",
    "rf_model.fit(X_train, y_train)"
   ]
  },
  {
   "cell_type": "code",
   "execution_count": 96,
   "id": "8c919444-9c59-47b1-8da7-70b12744df24",
   "metadata": {},
   "outputs": [],
   "source": [
    "y_pred = rf_model.predict(X_test)\n",
    "#y_test = buildMulticlassTestArrays(targets_set, y_test)"
   ]
  },
  {
   "cell_type": "code",
   "execution_count": 54,
   "id": "d99c32f8-810a-485d-8aa1-ddc08c76e618",
   "metadata": {},
   "outputs": [
    {
     "data": {
      "text/plain": [
       "168"
      ]
     },
     "execution_count": 54,
     "metadata": {},
     "output_type": "execute_result"
    }
   ],
   "source": [
    "gc.collect()"
   ]
  },
  {
   "cell_type": "code",
   "execution_count": 98,
   "id": "6de86add-cfa6-4b3e-9167-2cd297e01919",
   "metadata": {
    "scrolled": false,
    "tags": []
   },
   "outputs": [
    {
     "name": "stdout",
     "output_type": "stream",
     "text": [
      "[[ 0  0  0 ...  0  0  0]\n",
      " [ 0  0  0 ...  0  0  0]\n",
      " [ 0  0 61 ...  0  0  0]\n",
      " ...\n",
      " [ 0  0  0 ...  2  0  0]\n",
      " [ 0  0  0 ...  0  3  0]\n",
      " [ 0  0  1 ...  0  0  0]]\n",
      "                    precision    recall  f1-score   support\n",
      "\n",
      "              .net       0.00      0.00      0.00        15\n",
      "         algorithm       0.00      0.00      0.00         4\n",
      "           android       0.72      0.86      0.78        71\n",
      "    android-studio       0.00      0.00      0.00         2\n",
      "           angular       0.78      0.70      0.74        10\n",
      "         angularjs       1.00      0.12      0.22         8\n",
      "            arrays       0.00      0.00      0.00         5\n",
      "           asp.net       0.00      0.00      0.00         6\n",
      "       asp.net-mvc       0.00      0.00      0.00         4\n",
      "              bash       0.62      0.83      0.71        36\n",
      "            branch       0.00      0.00      0.00         1\n",
      "                 c       0.60      0.14      0.22        22\n",
      "                c#       0.58      0.55      0.57       141\n",
      "               c++       0.61      0.54      0.57        56\n",
      "             class       0.00      0.00      0.00         1\n",
      "       cocoa-touch       0.00      0.00      0.00         1\n",
      "      command-line       0.00      0.00      0.00         2\n",
      "               css       0.56      0.55      0.55        42\n",
      "          database       0.00      0.00      0.00         6\n",
      "              date       0.00      0.00      0.00         1\n",
      "          datetime       0.00      0.00      0.00         3\n",
      "         debugging       0.00      0.00      0.00         1\n",
      "         directory       0.00      0.00      0.00         1\n",
      "            django       1.00      0.17      0.29         6\n",
      "            docker       0.88      0.83      0.86        18\n",
      "           eclipse       1.00      0.50      0.67         4\n",
      "              file       0.00      0.00      0.00         2\n",
      "           file-io       0.00      0.00      0.00         1\n",
      "          function       0.00      0.00      0.00         2\n",
      "               git       0.87      0.99      0.92       168\n",
      "            github       1.00      0.14      0.25         7\n",
      "     google-chrome       0.00      0.00      0.00         3\n",
      "              html       0.53      0.49      0.51        55\n",
      "              http       1.00      0.09      0.17        11\n",
      "               ios       0.91      0.60      0.72        48\n",
      "              java       0.68      0.80      0.74       157\n",
      "        javascript       0.62      0.91      0.74       285\n",
      "            jquery       0.00      0.00      0.00        24\n",
      "              json       0.00      0.00      0.00         6\n",
      " language-agnostic       0.00      0.00      0.00         5\n",
      "              linq       0.00      0.00      0.00         1\n",
      "             linux       0.69      0.26      0.38        42\n",
      "             macos       0.00      0.00      0.00         5\n",
      "             mysql       0.63      0.87      0.73        30\n",
      "           node.js       0.41      0.44      0.43        27\n",
      "               npm       0.00      0.00      0.00         1\n",
      "       objective-c       0.00      0.00      0.00         8\n",
      "               oop       0.00      0.00      0.00         6\n",
      "       performance       0.00      0.00      0.00         2\n",
      "               php       0.81      0.76      0.79        34\n",
      "        postgresql       0.67      0.40      0.50         5\n",
      "            python       0.75      0.92      0.83       258\n",
      "                 r       0.88      0.35      0.50        20\n",
      "           reactjs       0.00      0.00      0.00         8\n",
      "             regex       1.00      0.57      0.73         7\n",
      "              rest       1.00      0.40      0.57         5\n",
      "              ruby       0.68      0.65      0.67        20\n",
      "     ruby-on-rails       0.70      0.54      0.61        13\n",
      "          security       0.00      0.00      0.00         5\n",
      "             shell       0.00      0.00      0.00         3\n",
      "               sql       0.65      0.77      0.70        43\n",
      "        sql-server       0.38      0.20      0.26        15\n",
      "            string       0.00      0.00      0.00         4\n",
      "             swift       0.25      0.20      0.22         5\n",
      "            syntax       0.00      0.00      0.00         4\n",
      "       terminology       0.00      0.00      0.00         4\n",
      " twitter-bootstrap       0.00      0.00      0.00         1\n",
      "             types       0.00      0.00      0.00         1\n",
      "        typescript       0.40      0.18      0.25        11\n",
      "      unit-testing       0.00      0.00      0.00         2\n",
      "              unix       0.00      0.00      0.00         9\n",
      "       unknown-tag       0.35      0.43      0.38       115\n",
      "               url       0.00      0.00      0.00         1\n",
      "         variables       0.00      0.00      0.00         1\n",
      "   version-control       0.00      0.00      0.00         1\n",
      "               vim       1.00      0.92      0.96        13\n",
      "     visual-studio       0.17      0.20      0.18         5\n",
      "visual-studio-code       0.38      0.60      0.46         5\n",
      "           windows       0.33      0.15      0.21        13\n",
      "             xcode       1.00      0.75      0.86         4\n",
      "               xml       0.00      0.00      0.00         2\n",
      "\n",
      "          accuracy                           0.66      2000\n",
      "         macro avg       0.33      0.25      0.26      2000\n",
      "      weighted avg       0.61      0.66      0.62      2000\n",
      "\n",
      "0.658\n"
     ]
    },
    {
     "name": "stderr",
     "output_type": "stream",
     "text": [
      "C:\\Users\\Vitor\\anaconda3\\lib\\site-packages\\sklearn\\metrics\\_classification.py:1318: UndefinedMetricWarning: Precision and F-score are ill-defined and being set to 0.0 in labels with no predicted samples. Use `zero_division` parameter to control this behavior.\n",
      "  _warn_prf(average, modifier, msg_start, len(result))\n",
      "C:\\Users\\Vitor\\anaconda3\\lib\\site-packages\\sklearn\\metrics\\_classification.py:1318: UndefinedMetricWarning: Precision and F-score are ill-defined and being set to 0.0 in labels with no predicted samples. Use `zero_division` parameter to control this behavior.\n",
      "  _warn_prf(average, modifier, msg_start, len(result))\n",
      "C:\\Users\\Vitor\\anaconda3\\lib\\site-packages\\sklearn\\metrics\\_classification.py:1318: UndefinedMetricWarning: Precision and F-score are ill-defined and being set to 0.0 in labels with no predicted samples. Use `zero_division` parameter to control this behavior.\n",
      "  _warn_prf(average, modifier, msg_start, len(result))\n"
     ]
    }
   ],
   "source": [
    "from sklearn.metrics import classification_report, confusion_matrix, accuracy_score\n",
    "\n",
    "print(confusion_matrix(y_test,y_pred))\n",
    "print(classification_report(y_test,y_pred))\n",
    "print(accuracy_score(y_test, y_pred))"
   ]
  },
  {
   "cell_type": "code",
   "execution_count": 20,
   "id": "4eb592be-d6d7-438e-80da-d7086d83dc28",
   "metadata": {},
   "outputs": [
    {
     "data": {
      "text/plain": [
       "100"
      ]
     },
     "execution_count": 20,
     "metadata": {},
     "output_type": "execute_result"
    }
   ],
   "source": [
    "# rf_model.base_estimator_\n",
    "# rf_model.estimators_\n",
    "len(rf_model.estimators_)"
   ]
  },
  {
   "cell_type": "code",
   "execution_count": 21,
   "id": "072bd42c-ec5c-4f02-8666-8e25719ab03e",
   "metadata": {},
   "outputs": [],
   "source": [
    "# import pickle\n",
    "# s = pickle.dumps(rf_model)\n",
    "# rf_model_2 = pickle.loads(s)"
   ]
  },
  {
   "cell_type": "code",
   "execution_count": 22,
   "id": "324f3df3-0694-4098-a0a7-200933c13db8",
   "metadata": {},
   "outputs": [],
   "source": [
    "# from joblib import dump, load\n",
    "# dump(rf_model, 'rf_model.joblib') "
   ]
  },
  {
   "cell_type": "code",
   "execution_count": 52,
   "id": "77608051-ccf9-44d2-a2c1-bf78b493b109",
   "metadata": {},
   "outputs": [
    {
     "name": "stderr",
     "output_type": "stream",
     "text": [
      "C:\\Users\\Vitor\\anaconda3\\lib\\site-packages\\sklearn\\model_selection\\_split.py:676: UserWarning: The least populated class in y has only 1 members, which is less than n_splits=5.\n",
      "  warnings.warn(\n"
     ]
    },
    {
     "data": {
      "text/plain": [
       "0.63875"
      ]
     },
     "execution_count": 52,
     "metadata": {},
     "output_type": "execute_result"
    }
   ],
   "source": [
    "from sklearn.model_selection import cross_val_score\n",
    "import numpy as np\n",
    "\n",
    "np.mean(cross_val_score(rf_model, X_train, y_train, cv=5))"
   ]
  },
  {
   "cell_type": "code",
   "execution_count": null,
   "id": "62348a8e-6ebb-4d2b-b63c-98e812afa4f9",
   "metadata": {},
   "outputs": [],
   "source": []
  }
 ],
 "metadata": {
  "kernelspec": {
   "display_name": "Python 3 (ipykernel)",
   "language": "python",
   "name": "python3"
  },
  "language_info": {
   "codemirror_mode": {
    "name": "ipython",
    "version": 3
   },
   "file_extension": ".py",
   "mimetype": "text/x-python",
   "name": "python",
   "nbconvert_exporter": "python",
   "pygments_lexer": "ipython3",
   "version": "3.9.12"
  }
 },
 "nbformat": 4,
 "nbformat_minor": 5
}

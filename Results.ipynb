{
 "cells": [
  {
   "cell_type": "markdown",
   "id": "85a5b65a-1e64-4f8a-b5ae-295b0807e1e2",
   "metadata": {},
   "source": [
    "# Resultados"
   ]
  },
  {
   "cell_type": "markdown",
   "id": "300e7b49-b00e-4cb4-8c11-1337d35b1699",
   "metadata": {
    "tags": []
   },
   "source": [
    "## Métricas"
   ]
  },
  {
   "cell_type": "markdown",
   "id": "21ca74a6-bed4-4765-8e04-3777e21ef102",
   "metadata": {},
   "source": [
    "### Diferença de Tempo de Resposta"
   ]
  },
  {
   "cell_type": "code",
   "execution_count": 52,
   "id": "a601c16a-6974-48f3-b449-296611df68e7",
   "metadata": {},
   "outputs": [],
   "source": [
    "def calculateExpectedTimeDifference(expectedTime, actualTime):\n",
    "    return abs(expectedTime - actualTime)"
   ]
  },
  {
   "cell_type": "markdown",
   "id": "40f4b93c",
   "metadata": {},
   "source": [
    "## Cálculo de Tempo Resposta e Número de Entradas por Tags"
   ]
  },
  {
   "cell_type": "code",
   "execution_count": 5,
   "id": "6ab005df",
   "metadata": {},
   "outputs": [],
   "source": [
    "from datetime import datetime\n",
    "\n",
    "def calculateResponseTime(timeArray):\n",
    "    d1 = datetime.strptime(timeArray[0], \"%Y-%m-%d %H:%M:%S\")\n",
    "    d2 = datetime.strptime(timeArray[1], \"%Y-%m-%d %H:%M:%S\")\n",
    "    \n",
    "    delta = d2 - d1\n",
    "    \n",
    "    return delta.seconds / 3600"
   ]
  },
  {
   "cell_type": "code",
   "execution_count": 6,
   "id": "cf31f84b",
   "metadata": {},
   "outputs": [],
   "source": [
    "def calculateTagsEntriesAndTime(df):\n",
    "    count = {}\n",
    "    \n",
    "    for line in df[['Tags','CreationDate','Answer Date']].iterrows():\n",
    "        line = line[1]\n",
    "        time = [line[1], line[2]]\n",
    "\n",
    "        tags = line[0][1:-1].split('><')\n",
    "        responseTime = calculateResponseTime(time)\n",
    "\n",
    "        for tag in tags:\n",
    "            if(tag not in count.keys()):\n",
    "                dataTag = {\n",
    "                    'entries': 1,\n",
    "                    'time': responseTime\n",
    "                }\n",
    "                count[tag] = dataTag\n",
    "            else:\n",
    "                count[tag]['entries'] += 1\n",
    "                count[tag]['time'] += responseTime\n",
    "                \n",
    "    return count"
   ]
  },
  {
   "cell_type": "code",
   "execution_count": 7,
   "id": "8f71d409",
   "metadata": {},
   "outputs": [],
   "source": [
    "def calculateMeanTimePerTag(count):\n",
    "    for tag in count:\n",
    "        count[tag]['meanTime'] =   count[tag]['time'] /  count[tag]['entries']"
   ]
  },
  {
   "cell_type": "code",
   "execution_count": 8,
   "id": "e5aa470d",
   "metadata": {},
   "outputs": [],
   "source": [
    "def sortTags(count):\n",
    "    return dict(sorted(count.items(), key=lambda item: -item[1]['entries']))"
   ]
  },
  {
   "cell_type": "markdown",
   "id": "12fc4344-f997-41f3-b722-1482b983b28a",
   "metadata": {
    "tags": []
   },
   "source": [
    "## Validação do Modelo"
   ]
  },
  {
   "cell_type": "code",
   "execution_count": 4,
   "id": "1a0e10a4",
   "metadata": {},
   "outputs": [],
   "source": [
    "from joblib import load\n",
    "import os\n",
    "import pandas as pd\n",
    "\n",
    "cwd = os.getcwd()\n",
    "df_validation = pd.read_csv(cwd + '/data/processed/posts_val_clean.csv')\n",
    "df_train_test = pd.read_csv(cwd + '/data/processed/posts_train_test_clean.csv')"
   ]
  },
  {
   "cell_type": "code",
   "execution_count": 38,
   "id": "ad6bf993",
   "metadata": {},
   "outputs": [],
   "source": [
    "from sklearn.feature_extraction.text import CountVectorizer\n",
    "from sklearn.feature_extraction.text import TfidfVectorizer\n",
    "\n",
    "words_post = df_train_test.complete_text.apply(lambda x: str(x))\n",
    "#words_post = df_train_test.normalized_text.apply(lambda x: str(x)) #FOR RANDOM FOREST MODEL\n",
    "\n",
    "vectorizer = TfidfVectorizer(min_df=20)\n",
    "#vectorizer = TfidfVectorizer() #FOR RANDOM FOREST MODEL\n",
    "\n",
    "vectorizer.fit(words_post)\n",
    "X = vectorizer.transform(words_post)"
   ]
  },
  {
   "cell_type": "code",
   "execution_count": 103,
   "id": "20d33802",
   "metadata": {},
   "outputs": [],
   "source": [
    "def split_tags(tags):\n",
    "    tags = tags[1:-1]\n",
    "    tags = tags.split(\"><\")\n",
    "    \n",
    "    return tags"
   ]
  },
  {
   "cell_type": "code",
   "execution_count": 137,
   "id": "146a6468-9b3b-4dbe-9c1d-c2f7d6b62961",
   "metadata": {},
   "outputs": [],
   "source": [
    "def testModel(df, model, timeTagDict):\n",
    "    timeDifferenceResults = []\n",
    "    tagWasCorrectResults = []\n",
    "    predictedTagResults = []\n",
    "    \n",
    "    for index in df.index:\n",
    "        document = df.loc[index]\n",
    "        predictedTag = model.predict(X[index])[0]\n",
    "        timeDifferenceResults.append(calculateExpectedTimeDifference(timeTagDict[predictedTag]['meanTime'], calculateResponseTime([document['CreationDate'], document['Answer Date']])))\n",
    "        tagWasCorrectResults.append(predictedTag in split_tags(document.Tags))\n",
    "        predictedTagResults.append(predictedTag)\n",
    "        \n",
    "    df = df.assign(timeDifference=timeDifferenceResults)\n",
    "    df = df.assign(tagWasCorrect=tagWasCorrectResults)\n",
    "    df = df.assign(predictedTag=predictedTagResults)\n",
    "    \n",
    "    return df"
   ]
  },
  {
   "cell_type": "code",
   "execution_count": 105,
   "id": "c37fdccf",
   "metadata": {},
   "outputs": [],
   "source": [
    "def calculateTimeMeanByTag(df, model):\n",
    "    timeTagDict = {}\n",
    "    for index in df.index:\n",
    "        document = df.loc[index]\n",
    "        tag = model.predict(X[index])[0]\n",
    "        timeDifference = calculateResponseTime([document['CreationDate'], document['Answer Date']])\n",
    "        if(tag in timeTagDict.keys()):\n",
    "            timeTagDict[tag]['totalTime'] += timeDifference\n",
    "            timeTagDict[tag]['count'] += 1\n",
    "        else:\n",
    "            timeTagDict[tag] = {'totalTime': timeDifference, 'count': 1}\n",
    "    for tag in timeTagDict.keys():\n",
    "        timeTagDict[tag]['meanTime'] =  timeTagDict[tag]['totalTime'] /  timeTagDict[tag]['count']\n",
    "    return timeTagDict"
   ]
  },
  {
   "cell_type": "code",
   "execution_count": 146,
   "id": "9d00b778",
   "metadata": {},
   "outputs": [],
   "source": [
    "from joblib import load\n",
    "import os\n",
    "import pandas as pd\n",
    "\n",
    "cwd = os.getcwd()\n",
    "\n",
    "df_validation = pd.read_csv(cwd + '/data/processed/posts_val_clean.csv')\n",
    "\n",
    "#model = load('models/dummy_model.joblib')\n",
    "#model = load('models/dummy_model_less_tags.joblib')\n",
    "#model = load('models/lr_model_less_tags.joblib')\n",
    "model = load('models/lr_model.joblib')\n",
    "#model = load('models/rf_model.joblib')\n",
    "#model = load('models/rf_model_less_tags.joblib')"
   ]
  },
  {
   "cell_type": "code",
   "execution_count": null,
   "id": "3e14baab",
   "metadata": {},
   "outputs": [],
   "source": [
    "timeTagDict = calculateTimeMeanByTag(df_train_test, model)"
   ]
  },
  {
   "cell_type": "code",
   "execution_count": null,
   "id": "512ed4a2",
   "metadata": {},
   "outputs": [],
   "source": [
    "df_validation = testModel(df_validation, model, timeTagDict)"
   ]
  },
  {
   "cell_type": "code",
   "execution_count": null,
   "id": "83f7fb61",
   "metadata": {},
   "outputs": [],
   "source": [
    "accuracyPercentage = df_validation[df_validation['tagWasCorrect'] == True].shape[0] / df_validation.shape[0]\n",
    "meanTimeDiferenceError = sum(list(df_validation['timeDifference'])) / df_validation.shape[0]\n",
    "print(accuracyPercentage)\n",
    "print(meanTimeDiferenceError)"
   ]
  }
 ],
 "metadata": {
  "kernelspec": {
   "display_name": "Python 3 (ipykernel)",
   "language": "python",
   "name": "python3"
  },
  "language_info": {
   "codemirror_mode": {
    "name": "ipython",
    "version": 3
   },
   "file_extension": ".py",
   "mimetype": "text/x-python",
   "name": "python",
   "nbconvert_exporter": "python",
   "pygments_lexer": "ipython3",
   "version": "3.9.12"
  }
 },
 "nbformat": 4,
 "nbformat_minor": 5
}

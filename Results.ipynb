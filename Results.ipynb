{
 "cells": [
  {
   "cell_type": "markdown",
   "id": "85a5b65a-1e64-4f8a-b5ae-295b0807e1e2",
   "metadata": {},
   "source": [
    "# Resultados"
   ]
  },
  {
   "cell_type": "markdown",
   "id": "7a7849c5-48c4-4f45-bed2-5ce6e3c95063",
   "metadata": {
    "tags": []
   },
   "source": [
    "## Inicializando o DataFrame de Resposta"
   ]
  },
  {
   "cell_type": "code",
   "execution_count": 158,
   "id": "5ba80274-38e7-4537-9dff-9aff22bb9fe5",
   "metadata": {},
   "outputs": [
    {
     "data": {
      "text/html": [
       "<div>\n",
       "<style scoped>\n",
       "    .dataframe tbody tr th:only-of-type {\n",
       "        vertical-align: middle;\n",
       "    }\n",
       "\n",
       "    .dataframe tbody tr th {\n",
       "        vertical-align: top;\n",
       "    }\n",
       "\n",
       "    .dataframe thead th {\n",
       "        text-align: right;\n",
       "    }\n",
       "</style>\n",
       "<table border=\"1\" class=\"dataframe\">\n",
       "  <thead>\n",
       "    <tr style=\"text-align: right;\">\n",
       "      <th></th>\n",
       "      <th>TopicID</th>\n",
       "      <th>Tags</th>\n",
       "      <th>MeanAnswerTime</th>\n",
       "      <th>TopicCount</th>\n",
       "    </tr>\n",
       "  </thead>\n",
       "  <tbody>\n",
       "    <tr>\n",
       "      <th>0</th>\n",
       "      <td>0</td>\n",
       "      <td>0</td>\n",
       "      <td>0</td>\n",
       "      <td>0</td>\n",
       "    </tr>\n",
       "    <tr>\n",
       "      <th>1</th>\n",
       "      <td>1</td>\n",
       "      <td>0</td>\n",
       "      <td>0</td>\n",
       "      <td>0</td>\n",
       "    </tr>\n",
       "    <tr>\n",
       "      <th>2</th>\n",
       "      <td>2</td>\n",
       "      <td>0</td>\n",
       "      <td>0</td>\n",
       "      <td>0</td>\n",
       "    </tr>\n",
       "    <tr>\n",
       "      <th>3</th>\n",
       "      <td>3</td>\n",
       "      <td>0</td>\n",
       "      <td>0</td>\n",
       "      <td>0</td>\n",
       "    </tr>\n",
       "    <tr>\n",
       "      <th>4</th>\n",
       "      <td>4</td>\n",
       "      <td>0</td>\n",
       "      <td>0</td>\n",
       "      <td>0</td>\n",
       "    </tr>\n",
       "    <tr>\n",
       "      <th>5</th>\n",
       "      <td>5</td>\n",
       "      <td>0</td>\n",
       "      <td>0</td>\n",
       "      <td>0</td>\n",
       "    </tr>\n",
       "    <tr>\n",
       "      <th>6</th>\n",
       "      <td>6</td>\n",
       "      <td>0</td>\n",
       "      <td>0</td>\n",
       "      <td>0</td>\n",
       "    </tr>\n",
       "    <tr>\n",
       "      <th>7</th>\n",
       "      <td>7</td>\n",
       "      <td>0</td>\n",
       "      <td>0</td>\n",
       "      <td>0</td>\n",
       "    </tr>\n",
       "    <tr>\n",
       "      <th>8</th>\n",
       "      <td>8</td>\n",
       "      <td>0</td>\n",
       "      <td>0</td>\n",
       "      <td>0</td>\n",
       "    </tr>\n",
       "    <tr>\n",
       "      <th>9</th>\n",
       "      <td>9</td>\n",
       "      <td>0</td>\n",
       "      <td>0</td>\n",
       "      <td>0</td>\n",
       "    </tr>\n",
       "  </tbody>\n",
       "</table>\n",
       "</div>"
      ],
      "text/plain": [
       "   TopicID  Tags  MeanAnswerTime  TopicCount\n",
       "0        0     0               0           0\n",
       "1        1     0               0           0\n",
       "2        2     0               0           0\n",
       "3        3     0               0           0\n",
       "4        4     0               0           0\n",
       "5        5     0               0           0\n",
       "6        6     0               0           0\n",
       "7        7     0               0           0\n",
       "8        8     0               0           0\n",
       "9        9     0               0           0"
      ]
     },
     "execution_count": 158,
     "metadata": {},
     "output_type": "execute_result"
    }
   ],
   "source": [
    "import pandas as pd\n",
    "\n",
    "numberOfTopics = 10\n",
    "\n",
    "answerDF = pd.DataFrame(index=range(numberOfTopics),columns=['TopicID', 'Tags', 'MeanAnswerTime', 'TopicCount'], dType=[])\n",
    "answerDF[['MeanAnswerTime', 'TopicCount', 'Tags']]= answerDF[['MeanAnswerTime', 'TopicCount', 'Tags']].fillna(0)\n",
    "answerDF.TopicID = answerDF.index\n",
    "answerDF"
   ]
  },
  {
   "cell_type": "markdown",
   "id": "0f3e9b2c-6ac8-4d6c-8a6e-7ae0c802c5c6",
   "metadata": {
    "tags": []
   },
   "source": [
    "## Inserindo Um Novo Resultado no DataFrame de Resposta"
   ]
  },
  {
   "cell_type": "code",
   "execution_count": 157,
   "id": "2c3b7789-96a6-43bd-ba8d-eebc7b6ec47b",
   "metadata": {},
   "outputs": [],
   "source": [
    "def linkDocumentTopic(line, topicID):\n",
    "    timeDiff = calculateResponseTime([line['CreationDate'], line['Answer Date']])\n",
    "    \n",
    "    answerTopic = answerDF.loc[topicID]\n",
    "    \n",
    "    answerDF.loc[topicID, 'MeanAnswerTime'] = (answerTopic.MeanAnswerTime * answerTopic.TopicCount + timeDiff) / (answerTopic.TopicCount + 1)\n",
    "    answerDF.loc[topicID, 'TopicCount'] += 1\n",
    "    \n",
    "    if(answerDF.loc[topicID, 'Tags'] == 0):\n",
    "        answerDF.at[topicID, 'Tags'] = \",\".join(set(line['Tags'][1:-1].split('><')))\n",
    "    else: \n",
    "        answerDF.loc[topicID, 'Tags'] = \",\".join(set(answerTopic.Tags.split(',')).union(set(line['Tags'][1:-1].split('><'))))\n",
    "    "
   ]
  },
  {
   "cell_type": "code",
   "execution_count": 155,
   "id": "773a93ac-4565-4dd1-bd89-9b2a435dad78",
   "metadata": {},
   "outputs": [
    {
     "name": "stdout",
     "output_type": "stream",
     "text": [
      "{'c++', 'performance', 'cpu-architecture', 'teste', 'java'}\n"
     ]
    }
   ],
   "source": [
    "line = {\n",
    "    'CreationDate': ['2012-06-27 13:51:36'],\n",
    "    'Answer Date': ['2012-06-27 13:56:42'],\n",
    "    'Tags': ['<java><c++><performance><cpu-architecture><teste>'],\n",
    "}\n",
    "\n",
    "lineDF = pd.DataFrame.from_dict(line)\n",
    "\n",
    "linkDocumentTopic(lineDF.iloc[0], 0);"
   ]
  },
  {
   "cell_type": "code",
   "execution_count": 169,
   "id": "da6da048-cbf5-4fc2-919e-2299cec49033",
   "metadata": {},
   "outputs": [
    {
     "data": {
      "text/html": [
       "<div>\n",
       "<style scoped>\n",
       "    .dataframe tbody tr th:only-of-type {\n",
       "        vertical-align: middle;\n",
       "    }\n",
       "\n",
       "    .dataframe tbody tr th {\n",
       "        vertical-align: top;\n",
       "    }\n",
       "\n",
       "    .dataframe thead th {\n",
       "        text-align: right;\n",
       "    }\n",
       "</style>\n",
       "<table border=\"1\" class=\"dataframe\">\n",
       "  <thead>\n",
       "    <tr style=\"text-align: right;\">\n",
       "      <th></th>\n",
       "      <th>TopicID</th>\n",
       "      <th>Tags</th>\n",
       "      <th>MeanAnswerTime</th>\n",
       "      <th>TopicCount</th>\n",
       "    </tr>\n",
       "  </thead>\n",
       "  <tbody>\n",
       "    <tr>\n",
       "      <th>0</th>\n",
       "      <td>0</td>\n",
       "      <td>0</td>\n",
       "      <td>0</td>\n",
       "      <td>0</td>\n",
       "    </tr>\n",
       "    <tr>\n",
       "      <th>1</th>\n",
       "      <td>1</td>\n",
       "      <td>0</td>\n",
       "      <td>0</td>\n",
       "      <td>0</td>\n",
       "    </tr>\n",
       "    <tr>\n",
       "      <th>2</th>\n",
       "      <td>2</td>\n",
       "      <td>0</td>\n",
       "      <td>0</td>\n",
       "      <td>0</td>\n",
       "    </tr>\n",
       "    <tr>\n",
       "      <th>3</th>\n",
       "      <td>3</td>\n",
       "      <td>0</td>\n",
       "      <td>0</td>\n",
       "      <td>0</td>\n",
       "    </tr>\n",
       "    <tr>\n",
       "      <th>4</th>\n",
       "      <td>4</td>\n",
       "      <td>0</td>\n",
       "      <td>0</td>\n",
       "      <td>0</td>\n",
       "    </tr>\n",
       "    <tr>\n",
       "      <th>5</th>\n",
       "      <td>5</td>\n",
       "      <td>0</td>\n",
       "      <td>0</td>\n",
       "      <td>0</td>\n",
       "    </tr>\n",
       "    <tr>\n",
       "      <th>6</th>\n",
       "      <td>6</td>\n",
       "      <td>0</td>\n",
       "      <td>0</td>\n",
       "      <td>0</td>\n",
       "    </tr>\n",
       "    <tr>\n",
       "      <th>7</th>\n",
       "      <td>7</td>\n",
       "      <td>0</td>\n",
       "      <td>0</td>\n",
       "      <td>0</td>\n",
       "    </tr>\n",
       "    <tr>\n",
       "      <th>8</th>\n",
       "      <td>8</td>\n",
       "      <td>0</td>\n",
       "      <td>0</td>\n",
       "      <td>0</td>\n",
       "    </tr>\n",
       "    <tr>\n",
       "      <th>9</th>\n",
       "      <td>9</td>\n",
       "      <td>0</td>\n",
       "      <td>0</td>\n",
       "      <td>0</td>\n",
       "    </tr>\n",
       "  </tbody>\n",
       "</table>\n",
       "</div>"
      ],
      "text/plain": [
       "   TopicID  Tags  MeanAnswerTime  TopicCount\n",
       "0        0     0               0           0\n",
       "1        1     0               0           0\n",
       "2        2     0               0           0\n",
       "3        3     0               0           0\n",
       "4        4     0               0           0\n",
       "5        5     0               0           0\n",
       "6        6     0               0           0\n",
       "7        7     0               0           0\n",
       "8        8     0               0           0\n",
       "9        9     0               0           0"
      ]
     },
     "execution_count": 169,
     "metadata": {},
     "output_type": "execute_result"
    }
   ],
   "source": [
    "answerDF"
   ]
  },
  {
   "cell_type": "markdown",
   "id": "300e7b49-b00e-4cb4-8c11-1337d35b1699",
   "metadata": {
    "tags": []
   },
   "source": [
    "## Métricas"
   ]
  },
  {
   "cell_type": "markdown",
   "id": "21ca74a6-bed4-4765-8e04-3777e21ef102",
   "metadata": {},
   "source": [
    "### Diferença de Tempo de Resposta"
   ]
  },
  {
   "cell_type": "code",
   "execution_count": 162,
   "id": "a601c16a-6974-48f3-b449-296611df68e7",
   "metadata": {},
   "outputs": [],
   "source": [
    "def calculateExpectedTimeDifference(expectedTime, actualTime):\n",
    "    return expectedTime - actualTime"
   ]
  },
  {
   "cell_type": "markdown",
   "id": "bc00d950-b697-45fc-b453-393455a247b2",
   "metadata": {},
   "source": [
    "### Porcentagem de Presença das Tags"
   ]
  },
  {
   "cell_type": "code",
   "execution_count": 164,
   "id": "1fb19a75-ed79-4276-ab40-607521a8ea8d",
   "metadata": {},
   "outputs": [],
   "source": [
    "def calculatePercentageOfTags(expectedTags, actualTags):\n",
    "    expectedSet = set(expectedTags.split(','))\n",
    "    actualSet = set(actualTags.split(','))\n",
    "    \n",
    "    return len(expectedSet.intersection(actualSet))/len(actualSet)"
   ]
  },
  {
   "cell_type": "markdown",
   "id": "12fc4344-f997-41f3-b722-1482b983b28a",
   "metadata": {
    "tags": []
   },
   "source": [
    "## Teste do Modelo"
   ]
  },
  {
   "cell_type": "code",
   "execution_count": null,
   "id": "146a6468-9b3b-4dbe-9c1d-c2f7d6b62961",
   "metadata": {},
   "outputs": [],
   "source": [
    "def TestModel(model, answerDF, testDataFrame):\n",
    "    timeDifferenceResults = []\n",
    "    tagsPercentageResults = []\n",
    "    \n",
    "    for document in testDataFrame:\n",
    "        topicID = model.try(document) #TODO MODEL\n",
    "        timeDifferenceResults.append(calculateExpectedTimeDifference(answerDF.loc[topicID].MeanAnswerTime, calculateResponseTime([document['CreationDate'], document['Answer Date']])))\n",
    "        tagsPercentageResults.append(calculatePercentageOfTags(answerDF.loc[topicID].Tags, document.Tags))\n",
    "    \n",
    "    testDateFrame.assign(timeDifference=timeDifferenceResults)\n",
    "    testDateFrame.assign(tagsPercentage=tagsPercentageResults)\n",
    "    \n",
    "    testDataFrame.describe()"
   ]
  }
 ],
 "metadata": {
  "kernelspec": {
   "display_name": "Python 3 (ipykernel)",
   "language": "python",
   "name": "python3"
  },
  "language_info": {
   "codemirror_mode": {
    "name": "ipython",
    "version": 3
   },
   "file_extension": ".py",
   "mimetype": "text/x-python",
   "name": "python",
   "nbconvert_exporter": "python",
   "pygments_lexer": "ipython3",
   "version": "3.9.12"
  }
 },
 "nbformat": 4,
 "nbformat_minor": 5
}

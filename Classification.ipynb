{
 "cells": [
  {
   "cell_type": "code",
   "execution_count": 1,
   "id": "00237f5c-b98a-47ff-85aa-e6975a02f1c5",
   "metadata": {},
   "outputs": [],
   "source": [
    "import os\n",
    "\n",
    "cwd = os.getcwd()"
   ]
  },
  {
   "cell_type": "code",
   "execution_count": 2,
   "id": "e67fcd87-1304-4135-af00-114f62b62965",
   "metadata": {},
   "outputs": [],
   "source": [
    "import pandas as pd\n",
    "\n",
    "\n",
    "df = pd.read_csv(cwd + '/data/processed/posts.csv')"
   ]
  },
  {
   "cell_type": "code",
   "execution_count": null,
   "id": "a455aca8-f5d6-4d6e-bd44-0f2964db7c12",
   "metadata": {},
   "outputs": [],
   "source": [
    "df.head()"
   ]
  },
  {
   "cell_type": "markdown",
   "id": "7a7b54bb-941a-468c-82b2-c834201245f6",
   "metadata": {},
   "source": [
    "## Criando os targets"
   ]
  },
  {
   "cell_type": "code",
   "execution_count": 3,
   "id": "1257b764-39bd-4656-b221-575e7c5f9a86",
   "metadata": {},
   "outputs": [],
   "source": [
    "def split_tags(tags):\n",
    "    tags = tags[1:-1]\n",
    "    tags = tags.split(\"><\")\n",
    "    \n",
    "    return tags"
   ]
  },
  {
   "cell_type": "code",
   "execution_count": 4,
   "id": "72b70203-351f-4b4c-af6d-67830c7c1161",
   "metadata": {},
   "outputs": [],
   "source": [
    "df['targets'] = df.Tags.apply(lambda x: split_tags(x))"
   ]
  },
  {
   "cell_type": "code",
   "execution_count": 5,
   "id": "152c69a4-29d2-4fd5-a22c-81febbf7c69b",
   "metadata": {},
   "outputs": [],
   "source": [
    "X, y = df['complete_text'], df['targets'].apply(lambda x: x[0])"
   ]
  },
  {
   "cell_type": "code",
   "execution_count": null,
   "id": "212fee04-830c-4e4a-905d-f6aa4544705d",
   "metadata": {},
   "outputs": [],
   "source": [
    "all_targets = df.targets.apply(lambda x: x[0]).tolist()"
   ]
  },
  {
   "cell_type": "code",
   "execution_count": null,
   "id": "c87018bb-c90b-4394-94cc-7d36cf5868e1",
   "metadata": {},
   "outputs": [],
   "source": [
    "from itertools import chain\n",
    "\n",
    "\n",
    "targets_set = list()\n",
    "\n",
    "# for targets in all_targets:\n",
    "#     for target in targets:\n",
    "#         targets_set.append(target)\n",
    "        \n",
    "for targets in all_targets:\n",
    "    targets_set.append(targets[0])"
   ]
  },
  {
   "cell_type": "code",
   "execution_count": null,
   "id": "5aae3408-0d12-49eb-924f-da1b9581c89c",
   "metadata": {},
   "outputs": [],
   "source": [
    "targets_set = set(targets_set)"
   ]
  },
  {
   "cell_type": "code",
   "execution_count": null,
   "id": "b598615f-7d10-4c27-9fe3-170b110a6449",
   "metadata": {
    "scrolled": true,
    "tags": []
   },
   "outputs": [],
   "source": [
    "len(targets_set)"
   ]
  },
  {
   "cell_type": "code",
   "execution_count": 6,
   "id": "742bf62f-84f5-47f3-ae4a-065622e6e904",
   "metadata": {},
   "outputs": [],
   "source": [
    "words_post = df.normalized_text.apply(lambda x: str(x))\n",
    "\n",
    "from sklearn.feature_extraction.text import CountVectorizer\n",
    "\n",
    "vectorizer = CountVectorizer()\n",
    "vectorizer.fit(words_post)\n",
    "vector = vectorizer.transform(words_post)"
   ]
  },
  {
   "cell_type": "code",
   "execution_count": null,
   "id": "fbaab523-044c-4fd8-9afe-97842d25ccf7",
   "metadata": {},
   "outputs": [],
   "source": []
  },
  {
   "cell_type": "code",
   "execution_count": 7,
   "id": "e0a64891-3d01-4ad2-9f58-946ae36b19c2",
   "metadata": {},
   "outputs": [],
   "source": [
    "from sklearn.model_selection import train_test_split\n",
    "    \n",
    "X_train, X_test, y_train, y_test = train_test_split(vector, y, test_size=0.33, random_state=42)"
   ]
  },
  {
   "cell_type": "code",
   "execution_count": null,
   "id": "083b90b0-bf99-4204-a863-8cc1bd0101eb",
   "metadata": {},
   "outputs": [],
   "source": [
    "from sklearn.ensemble import RandomForestClassifier\n",
    "\n",
    "rf_model = RandomForestClassifier(max_features=\"auto\", random_state=44)\n",
    "rf_model.fit(X_train, y_train)"
   ]
  },
  {
   "cell_type": "code",
   "execution_count": null,
   "id": "8c919444-9c59-47b1-8da7-70b12744df24",
   "metadata": {},
   "outputs": [],
   "source": []
  },
  {
   "cell_type": "code",
   "execution_count": null,
   "id": "d99c32f8-810a-485d-8aa1-ddc08c76e618",
   "metadata": {},
   "outputs": [],
   "source": []
  },
  {
   "cell_type": "code",
   "execution_count": null,
   "id": "6de86add-cfa6-4b3e-9167-2cd297e01919",
   "metadata": {},
   "outputs": [],
   "source": [
    "from sklearn.metrics import classification_report, confusion_matrix, accuracy_score\n",
    "\n",
    "print(confusion_matrix(y_test,y_pred))\n",
    "print(classification_report(y_test,y_pred))\n",
    "print(accuracy_score(y_test, y_pred))"
   ]
  }
 ],
 "metadata": {
  "kernelspec": {
   "display_name": "Python 3 (ipykernel)",
   "language": "python",
   "name": "python3"
  },
  "language_info": {
   "codemirror_mode": {
    "name": "ipython",
    "version": 3
   },
   "file_extension": ".py",
   "mimetype": "text/x-python",
   "name": "python",
   "nbconvert_exporter": "python",
   "pygments_lexer": "ipython3",
   "version": "3.9.7"
  }
 },
 "nbformat": 4,
 "nbformat_minor": 5
}

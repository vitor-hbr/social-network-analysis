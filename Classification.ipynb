{
 "cells": [
  {
   "cell_type": "code",
   "execution_count": 1,
   "id": "00237f5c-b98a-47ff-85aa-e6975a02f1c5",
   "metadata": {},
   "outputs": [],
   "source": [
    "import os\n",
    "\n",
    "cwd = os.getcwd()"
   ]
  },
  {
   "cell_type": "code",
   "execution_count": 2,
   "id": "e67fcd87-1304-4135-af00-114f62b62965",
   "metadata": {},
   "outputs": [],
   "source": [
    "import pandas as pd\n",
    "\n",
    "\n",
    "df = pd.read_csv(cwd + '/data/processed/posts_clean_short.csv')"
   ]
  },
  {
   "cell_type": "code",
   "execution_count": 3,
   "id": "a455aca8-f5d6-4d6e-bd44-0f2964db7c12",
   "metadata": {},
   "outputs": [
    {
     "data": {
      "text/html": [
       "<div>\n",
       "<style scoped>\n",
       "    .dataframe tbody tr th:only-of-type {\n",
       "        vertical-align: middle;\n",
       "    }\n",
       "\n",
       "    .dataframe tbody tr th {\n",
       "        vertical-align: top;\n",
       "    }\n",
       "\n",
       "    .dataframe thead th {\n",
       "        text-align: right;\n",
       "    }\n",
       "</style>\n",
       "<table border=\"1\" class=\"dataframe\">\n",
       "  <thead>\n",
       "    <tr style=\"text-align: right;\">\n",
       "      <th></th>\n",
       "      <th>Post Link</th>\n",
       "      <th>Title</th>\n",
       "      <th>Body</th>\n",
       "      <th>Tags</th>\n",
       "      <th>CreationDate</th>\n",
       "      <th>Answer Date</th>\n",
       "      <th>AcceptedAnswerId</th>\n",
       "      <th>id</th>\n",
       "      <th>body</th>\n",
       "      <th>score</th>\n",
       "      <th>complete_text</th>\n",
       "      <th>normalized_text</th>\n",
       "    </tr>\n",
       "  </thead>\n",
       "  <tbody>\n",
       "    <tr>\n",
       "      <th>0</th>\n",
       "      <td>11227809</td>\n",
       "      <td>Why is processing a sorted array faster than p...</td>\n",
       "      <td>&lt;p&gt;Here is a piece of C++ code that shows some...</td>\n",
       "      <td>&lt;java&gt;&lt;c++&gt;&lt;performance&gt;&lt;cpu-architecture&gt;&lt;bra...</td>\n",
       "      <td>2012-06-27 13:51:36</td>\n",
       "      <td>2012-06-27 13:56:42</td>\n",
       "      <td>11227902</td>\n",
       "      <td>11227902</td>\n",
       "      <td>&lt;p&gt;&lt;strong&gt;You are a victim of &lt;a href=\"https:...</td>\n",
       "      <td>26621</td>\n",
       "      <td>why is processing a sorted array faster than p...</td>\n",
       "      <td>process sort array faster process unsort array...</td>\n",
       "    </tr>\n",
       "    <tr>\n",
       "      <th>1</th>\n",
       "      <td>927358</td>\n",
       "      <td>How do I undo the most recent local commits in...</td>\n",
       "      <td>&lt;p&gt;I accidentally committed the wrong files to...</td>\n",
       "      <td>&lt;git&gt;&lt;version-control&gt;&lt;git-commit&gt;&lt;undo&gt;</td>\n",
       "      <td>2009-05-29 18:09:14</td>\n",
       "      <td>2009-05-29 18:13:42</td>\n",
       "      <td>927386</td>\n",
       "      <td>927386</td>\n",
       "      <td>&lt;h1&gt;Undo a commit &amp;amp; redo&lt;/h1&gt;\\n&lt;pre class=...</td>\n",
       "      <td>24809</td>\n",
       "      <td>how do i undo the most recent local commits in...</td>\n",
       "      <td>undo recent local commit git accident commit w...</td>\n",
       "    </tr>\n",
       "    <tr>\n",
       "      <th>2</th>\n",
       "      <td>2003505</td>\n",
       "      <td>How do I delete a Git branch locally and remot...</td>\n",
       "      <td>&lt;h4&gt;Failed Attempts to Delete a Remote Branch:...</td>\n",
       "      <td>&lt;git&gt;&lt;version-control&gt;&lt;git-branch&gt;&lt;git-push&gt;&lt;g...</td>\n",
       "      <td>2010-01-05 01:12:15</td>\n",
       "      <td>2010-01-05 01:13:55</td>\n",
       "      <td>2003515</td>\n",
       "      <td>2003515</td>\n",
       "      <td>&lt;h1&gt;Executive Summary&lt;/h1&gt;\\n&lt;pre&gt;&lt;code&gt;git pus...</td>\n",
       "      <td>19556</td>\n",
       "      <td>how do i delete a git branch locally and remot...</td>\n",
       "      <td>delet git branch local remot fail attempt dele...</td>\n",
       "    </tr>\n",
       "    <tr>\n",
       "      <th>3</th>\n",
       "      <td>292357</td>\n",
       "      <td>What is the difference between 'git pull' and ...</td>\n",
       "      <td>&lt;p&gt;What are the differences between &lt;a href=\"h...</td>\n",
       "      <td>&lt;git&gt;&lt;version-control&gt;&lt;git-pull&gt;&lt;git-fetch&gt;</td>\n",
       "      <td>2008-11-15 09:51:09</td>\n",
       "      <td>2008-11-15 09:52:40</td>\n",
       "      <td>292359</td>\n",
       "      <td>292359</td>\n",
       "      <td>&lt;p&gt;In the simplest terms, &lt;a href=\"http://git-...</td>\n",
       "      <td>13368</td>\n",
       "      <td>what is the difference between git pull and gi...</td>\n",
       "      <td>differ git pull git fetch differ git pull git ...</td>\n",
       "    </tr>\n",
       "    <tr>\n",
       "      <th>4</th>\n",
       "      <td>231767</td>\n",
       "      <td>What does the \"yield\" keyword do?</td>\n",
       "      <td>&lt;p&gt;What is the use of the &lt;code&gt;yield&lt;/code&gt; k...</td>\n",
       "      <td>&lt;python&gt;&lt;iterator&gt;&lt;generator&gt;</td>\n",
       "      <td>2008-10-23 22:21:11</td>\n",
       "      <td>2008-10-23 22:48:44</td>\n",
       "      <td>231855</td>\n",
       "      <td>231855</td>\n",
       "      <td>&lt;p&gt;To understand what &lt;code&gt;yield&lt;/code&gt; does,...</td>\n",
       "      <td>12259</td>\n",
       "      <td>what does the yield keyword do what is the use...</td>\n",
       "      <td>yield keyword use yield keyword python exampl ...</td>\n",
       "    </tr>\n",
       "  </tbody>\n",
       "</table>\n",
       "</div>"
      ],
      "text/plain": [
       "   Post Link                                              Title  \\\n",
       "0   11227809  Why is processing a sorted array faster than p...   \n",
       "1     927358  How do I undo the most recent local commits in...   \n",
       "2    2003505  How do I delete a Git branch locally and remot...   \n",
       "3     292357  What is the difference between 'git pull' and ...   \n",
       "4     231767                  What does the \"yield\" keyword do?   \n",
       "\n",
       "                                                Body  \\\n",
       "0  <p>Here is a piece of C++ code that shows some...   \n",
       "1  <p>I accidentally committed the wrong files to...   \n",
       "2  <h4>Failed Attempts to Delete a Remote Branch:...   \n",
       "3  <p>What are the differences between <a href=\"h...   \n",
       "4  <p>What is the use of the <code>yield</code> k...   \n",
       "\n",
       "                                                Tags         CreationDate  \\\n",
       "0  <java><c++><performance><cpu-architecture><bra...  2012-06-27 13:51:36   \n",
       "1           <git><version-control><git-commit><undo>  2009-05-29 18:09:14   \n",
       "2  <git><version-control><git-branch><git-push><g...  2010-01-05 01:12:15   \n",
       "3        <git><version-control><git-pull><git-fetch>  2008-11-15 09:51:09   \n",
       "4                      <python><iterator><generator>  2008-10-23 22:21:11   \n",
       "\n",
       "           Answer Date  AcceptedAnswerId        id  \\\n",
       "0  2012-06-27 13:56:42          11227902  11227902   \n",
       "1  2009-05-29 18:13:42            927386    927386   \n",
       "2  2010-01-05 01:13:55           2003515   2003515   \n",
       "3  2008-11-15 09:52:40            292359    292359   \n",
       "4  2008-10-23 22:48:44            231855    231855   \n",
       "\n",
       "                                                body  score  \\\n",
       "0  <p><strong>You are a victim of <a href=\"https:...  26621   \n",
       "1  <h1>Undo a commit &amp; redo</h1>\\n<pre class=...  24809   \n",
       "2  <h1>Executive Summary</h1>\\n<pre><code>git pus...  19556   \n",
       "3  <p>In the simplest terms, <a href=\"http://git-...  13368   \n",
       "4  <p>To understand what <code>yield</code> does,...  12259   \n",
       "\n",
       "                                       complete_text  \\\n",
       "0  why is processing a sorted array faster than p...   \n",
       "1  how do i undo the most recent local commits in...   \n",
       "2  how do i delete a git branch locally and remot...   \n",
       "3  what is the difference between git pull and gi...   \n",
       "4  what does the yield keyword do what is the use...   \n",
       "\n",
       "                                     normalized_text  \n",
       "0  process sort array faster process unsort array...  \n",
       "1  undo recent local commit git accident commit w...  \n",
       "2  delet git branch local remot fail attempt dele...  \n",
       "3  differ git pull git fetch differ git pull git ...  \n",
       "4  yield keyword use yield keyword python exampl ...  "
      ]
     },
     "execution_count": 3,
     "metadata": {},
     "output_type": "execute_result"
    }
   ],
   "source": [
    "df.head()"
   ]
  },
  {
   "cell_type": "markdown",
   "id": "7a7b54bb-941a-468c-82b2-c834201245f6",
   "metadata": {},
   "source": [
    "## Criando os targets"
   ]
  },
  {
   "cell_type": "code",
   "execution_count": 4,
   "id": "1257b764-39bd-4656-b221-575e7c5f9a86",
   "metadata": {},
   "outputs": [],
   "source": [
    "def split_tags(tags):\n",
    "    tags = tags[1:-1]\n",
    "    tags = tags.split(\"><\")\n",
    "    \n",
    "    return tags"
   ]
  },
  {
   "cell_type": "code",
   "execution_count": 5,
   "id": "72b70203-351f-4b4c-af6d-67830c7c1161",
   "metadata": {},
   "outputs": [],
   "source": [
    "df['targets'] = df.Tags.apply(lambda x: split_tags(x))"
   ]
  },
  {
   "cell_type": "code",
   "execution_count": 6,
   "id": "152c69a4-29d2-4fd5-a22c-81febbf7c69b",
   "metadata": {},
   "outputs": [],
   "source": [
    "X, y = df['complete_text'], df['targets'].apply(lambda x: x[0])"
   ]
  },
  {
   "cell_type": "code",
   "execution_count": 22,
   "id": "98fc11cb-129c-4245-8e06-dbe00880ab6f",
   "metadata": {},
   "outputs": [
    {
     "data": {
      "text/plain": [
       "0          java\n",
       "1           git\n",
       "2           git\n",
       "3           git\n",
       "4        python\n",
       "         ...   \n",
       "9995      scala\n",
       "9996        sql\n",
       "9997        sql\n",
       "9998    android\n",
       "9999       java\n",
       "Name: targets, Length: 10000, dtype: object"
      ]
     },
     "execution_count": 22,
     "metadata": {},
     "output_type": "execute_result"
    }
   ],
   "source": [
    "y"
   ]
  },
  {
   "cell_type": "code",
   "execution_count": 7,
   "id": "212fee04-830c-4e4a-905d-f6aa4544705d",
   "metadata": {},
   "outputs": [],
   "source": [
    "all_targets = df.targets.apply(lambda x: x[0]).tolist()"
   ]
  },
  {
   "cell_type": "code",
   "execution_count": 8,
   "id": "c87018bb-c90b-4394-94cc-7d36cf5868e1",
   "metadata": {},
   "outputs": [],
   "source": [
    "from itertools import chain\n",
    "\n",
    "\n",
    "targets_set = list()\n",
    "\n",
    "# for targets in all_targets:\n",
    "#     for target in targets:\n",
    "#         targets_set.append(target)\n",
    "        \n",
    "for targets in all_targets:\n",
    "    targets_set.append(targets)"
   ]
  },
  {
   "cell_type": "code",
   "execution_count": 9,
   "id": "5aae3408-0d12-49eb-924f-da1b9581c89c",
   "metadata": {},
   "outputs": [],
   "source": [
    "targets_set = set(targets_set)"
   ]
  },
  {
   "cell_type": "code",
   "execution_count": 10,
   "id": "b598615f-7d10-4c27-9fe3-170b110a6449",
   "metadata": {
    "scrolled": true,
    "tags": []
   },
   "outputs": [
    {
     "data": {
      "text/plain": [
       "26"
      ]
     },
     "execution_count": 10,
     "metadata": {},
     "output_type": "execute_result"
    }
   ],
   "source": [
    "len(targets_set)"
   ]
  },
  {
   "cell_type": "code",
   "execution_count": 23,
   "id": "f73d9b93-40f1-4f5a-ab80-400f4a8ca3a9",
   "metadata": {},
   "outputs": [
    {
     "data": {
      "text/plain": [
       "{'.',\n",
       " 'a',\n",
       " 'b',\n",
       " 'c',\n",
       " 'd',\n",
       " 'e',\n",
       " 'f',\n",
       " 'g',\n",
       " 'h',\n",
       " 'i',\n",
       " 'j',\n",
       " 'k',\n",
       " 'l',\n",
       " 'm',\n",
       " 'n',\n",
       " 'o',\n",
       " 'p',\n",
       " 'r',\n",
       " 's',\n",
       " 't',\n",
       " 'u',\n",
       " 'v',\n",
       " 'w',\n",
       " 'x',\n",
       " 'y',\n",
       " 'z'}"
      ]
     },
     "execution_count": 23,
     "metadata": {},
     "output_type": "execute_result"
    }
   ],
   "source": [
    "targets_set"
   ]
  },
  {
   "cell_type": "code",
   "execution_count": 11,
   "id": "742bf62f-84f5-47f3-ae4a-065622e6e904",
   "metadata": {},
   "outputs": [],
   "source": [
    "words_post = df.normalized_text.apply(lambda x: str(x))\n",
    "\n",
    "from sklearn.feature_extraction.text import CountVectorizer\n",
    "\n",
    "vectorizer = CountVectorizer()\n",
    "vectorizer.fit(words_post)\n",
    "vector = vectorizer.transform(words_post)"
   ]
  },
  {
   "cell_type": "code",
   "execution_count": 1,
   "id": "fbaab523-044c-4fd8-9afe-97842d25ccf7",
   "metadata": {},
   "outputs": [],
   "source": [
    "from sklearn.svm import SVC\n"
   ]
  },
  {
   "cell_type": "code",
   "execution_count": 18,
   "id": "e0a64891-3d01-4ad2-9f58-946ae36b19c2",
   "metadata": {},
   "outputs": [],
   "source": [
    "from sklearn.model_selection import train_test_split\n",
    "    \n",
    "X_train, X_test, y_train, y_test = train_test_split(vector, y, test_size=0.2, random_state=42)"
   ]
  },
  {
   "cell_type": "code",
   "execution_count": 19,
   "id": "083b90b0-bf99-4204-a863-8cc1bd0101eb",
   "metadata": {},
   "outputs": [
    {
     "data": {
      "text/plain": [
       "RandomForestClassifier(random_state=44)"
      ]
     },
     "execution_count": 19,
     "metadata": {},
     "output_type": "execute_result"
    }
   ],
   "source": [
    "from sklearn.ensemble import RandomForestClassifier\n",
    "\n",
    "rf_model = RandomForestClassifier(max_features=\"auto\", random_state=44)\n",
    "rf_model.fit(X_train, y_train)"
   ]
  },
  {
   "cell_type": "code",
   "execution_count": 20,
   "id": "8c919444-9c59-47b1-8da7-70b12744df24",
   "metadata": {},
   "outputs": [],
   "source": [
    "y_pred = rf_model.predict(X_test)"
   ]
  },
  {
   "cell_type": "code",
   "execution_count": null,
   "id": "d99c32f8-810a-485d-8aa1-ddc08c76e618",
   "metadata": {},
   "outputs": [],
   "source": []
  },
  {
   "cell_type": "code",
   "execution_count": 21,
   "id": "6de86add-cfa6-4b3e-9167-2cd297e01919",
   "metadata": {},
   "outputs": [
    {
     "name": "stdout",
     "output_type": "stream",
     "text": [
      "[[0 0 0 ... 0 0 0]\n",
      " [0 0 0 ... 0 0 0]\n",
      " [0 0 0 ... 0 0 0]\n",
      " ...\n",
      " [0 0 0 ... 0 0 0]\n",
      " [0 0 0 ... 0 0 0]\n",
      " [0 0 0 ... 0 0 0]]\n",
      "                        precision    recall  f1-score   support\n",
      "\n",
      "             .htaccess       0.00      0.00      0.00         1\n",
      "                  .net       0.00      0.00      0.00        15\n",
      "        actionscript-3       0.00      0.00      0.00         1\n",
      "      active-directory       0.00      0.00      0.00         1\n",
      "             algorithm       0.00      0.00      0.00         4\n",
      "            amazon-ec2       0.00      0.00      0.00         1\n",
      "   amazon-web-services       0.00      0.00      0.00         1\n",
      "               android       0.64      0.86      0.73        70\n",
      "        android-studio       0.00      0.00      0.00         1\n",
      "               angular       0.56      0.56      0.56         9\n",
      "             angularjs       0.00      0.00      0.00         8\n",
      "                apache       0.00      0.00      0.00         2\n",
      "                arrays       0.00      0.00      0.00         5\n",
      "               asp.net       0.00      0.00      0.00         6\n",
      "           asp.net-mvc       0.00      0.00      0.00         4\n",
      "         asp.net-mvc-3       0.00      0.00      0.00         1\n",
      "                  bash       0.58      0.81      0.67        36\n",
      "            batch-file       0.00      0.00      0.00         1\n",
      "                     c       0.40      0.09      0.15        22\n",
      "                    c#       0.47      0.61      0.53       141\n",
      "                   c++       0.57      0.54      0.55        56\n",
      "               caching       0.00      0.00      0.00         1\n",
      "                 class       0.00      0.00      0.00         1\n",
      "                 cocoa       0.00      0.00      0.00         1\n",
      "                colors       0.00      0.00      0.00         1\n",
      "              comments       0.00      0.00      0.00         1\n",
      "           concurrency       0.00      0.00      0.00         1\n",
      "                  cron       0.00      0.00      0.00         1\n",
      "                   css       0.68      0.47      0.56        40\n",
      "             css-float       0.00      0.00      0.00         1\n",
      "                   csv       0.00      0.00      0.00         1\n",
      "                  curl       0.00      0.00      0.00         3\n",
      "                cygwin       0.00      0.00      0.00         1\n",
      "              database       0.00      0.00      0.00         5\n",
      "       database-design       0.00      0.00      0.00         1\n",
      "                  date       0.00      0.00      0.00         1\n",
      "              datetime       0.00      0.00      0.00         3\n",
      "             debugging       0.00      0.00      0.00         1\n",
      "       design-patterns       0.00      0.00      0.00         0\n",
      "                django       1.00      0.17      0.29         6\n",
      "                docker       0.88      0.82      0.85        17\n",
      "  domain-driven-design       0.00      0.00      0.00         1\n",
      "               eclipse       1.00      0.75      0.86         4\n",
      "             emulation       0.00      0.00      0.00         1\n",
      "              encoding       0.00      0.00      0.00         1\n",
      "            encryption       0.00      0.00      0.00         1\n",
      "      entity-framework       0.00      0.00      0.00         1\n",
      "                 excel       0.00      0.00      0.00         3\n",
      "              facebook       0.00      0.00      0.00         2\n",
      "                  file       0.00      0.00      0.00         2\n",
      "               file-io       0.00      0.00      0.00         1\n",
      "              firebase       0.00      0.00      0.00         2\n",
      "                 flash       0.00      0.00      0.00         1\n",
      "        floating-point       0.00      0.00      0.00         1\n",
      "               flutter       1.00      1.00      1.00         2\n",
      "            formatting       0.00      0.00      0.00         2\n",
      "                 forms       0.00      0.00      0.00         1\n",
      "              function       0.00      0.00      0.00         1\n",
      "functional-programming       0.00      0.00      0.00         2\n",
      "                   gcc       0.00      0.00      0.00         1\n",
      "                   git       0.83      0.99      0.91       168\n",
      "              git-bash       0.00      0.00      0.00         1\n",
      "                github       0.00      0.00      0.00         6\n",
      "                    go       0.00      0.00      0.00         3\n",
      "      google-analytics       0.00      0.00      0.00         1\n",
      "         google-chrome       0.00      0.00      0.00         3\n",
      "           google-maps       0.00      0.00      0.00         1\n",
      "                gradle       0.00      0.00      0.00         1\n",
      "                  grep       0.00      0.00      0.00         2\n",
      "                  guid       0.00      0.00      0.00         1\n",
      "               haskell       1.00      0.33      0.50         3\n",
      "                heroku       0.00      0.00      0.00         1\n",
      "                  hook       0.00      0.00      0.00         1\n",
      "                  html       0.55      0.60      0.57        55\n",
      "                  http       1.00      0.10      0.18        10\n",
      "                 https       0.00      0.00      0.00         1\n",
      "                   iis       0.00      0.00      0.00         3\n",
      "                 image       0.00      0.00      0.00         3\n",
      "      image-processing       0.00      0.00      0.00         1\n",
      "           inheritance       0.00      0.00      0.00         1\n",
      "               integer       0.00      0.00      0.00         1\n",
      "         intellij-idea       0.00      0.00      0.00         2\n",
      "                   ios       0.86      0.50      0.63        48\n",
      "                iphone       0.00      0.00      0.00         4\n",
      "                 iterm       0.00      0.00      0.00         1\n",
      "                  java       0.69      0.82      0.75       157\n",
      "            javascript       0.58      0.91      0.71       285\n",
      "                jestjs       0.00      0.00      0.00         1\n",
      "                jquery       0.00      0.00      0.00        24\n",
      "                   jsf       0.00      0.00      0.00         1\n",
      "                  json       0.00      0.00      0.00         6\n",
      "              keystore       0.00      0.00      0.00         1\n",
      "            kubernetes       0.00      0.00      0.00         1\n",
      "                lambda       0.00      0.00      0.00         1\n",
      "     language-agnostic       0.00      0.00      0.00         3\n",
      "                 latex       0.00      0.00      0.00         1\n",
      "                  linq       0.00      0.00      0.00         1\n",
      "                 linux       0.78      0.33      0.47        42\n",
      "                 macos       0.00      0.00      0.00         5\n",
      "              makefile       1.00      1.00      1.00         1\n",
      "                  math       0.00      0.00      0.00         1\n",
      "                 maven       0.00      0.00      0.00         4\n",
      "               maven-2       0.00      0.00      0.00         1\n",
      "     memory-management       0.00      0.00      0.00         1\n",
      "               mongodb       0.75      0.60      0.67         5\n",
      "                 mysql       0.60      0.87      0.71        30\n",
      "               newline       0.00      0.00      0.00         1\n",
      "               node.js       0.48      0.44      0.46        27\n",
      "             notepad++       0.00      0.00      0.00         1\n",
      "                 nuget       0.00      0.00      0.00         1\n",
      "           objective-c       0.00      0.00      0.00         6\n",
      "                   oop       0.00      0.00      0.00         6\n",
      "               openssl       0.00      0.00      0.00         1\n",
      "                   pdf       0.00      0.00      0.00         2\n",
      "           performance       0.00      0.00      0.00         2\n",
      "                   php       0.84      0.76      0.80        34\n",
      "                   pip       0.00      0.00      0.00         1\n",
      "              pointers       0.00      0.00      0.00         1\n",
      "            postgresql       1.00      0.40      0.57         5\n",
      "            powershell       0.00      0.00      0.00         3\n",
      "               process       0.00      0.00      0.00         1\n",
      " programming-languages       0.00      0.00      0.00         1\n",
      "                python       0.71      0.93      0.80       258\n",
      "                     r       0.83      0.25      0.38        20\n",
      "          react-native       0.00      0.00      0.00         1\n",
      "               reactjs       0.00      0.00      0.00         8\n",
      "                 regex       0.80      0.57      0.67         7\n",
      "               replace       0.00      0.00      0.00         1\n",
      "          requirements       0.00      0.00      0.00         1\n",
      "                  rest       0.00      0.00      0.00         5\n",
      "                  ruby       0.78      0.70      0.74        20\n",
      "         ruby-on-rails       0.83      0.77      0.80        13\n",
      "                  rust       0.00      0.00      0.00         1\n",
      "                  sass       0.00      0.00      0.00         1\n",
      "                 scala       0.00      0.00      0.00         4\n",
      "             scripting       0.00      0.00      0.00         1\n",
      "              security       0.00      0.00      0.00         4\n",
      "                 share       0.00      0.00      0.00         1\n",
      "                 shell       0.00      0.00      0.00         3\n",
      "                spring       0.00      0.00      0.00         1\n",
      "                   sql       0.56      0.79      0.65        43\n",
      "            sql-server       0.57      0.27      0.36        15\n",
      "       sql-server-2012       0.00      0.00      0.00         1\n",
      "                sqlite       0.00      0.00      0.00         1\n",
      "                   ssh       0.00      0.00      0.00         3\n",
      "                   ssl       0.00      0.00      0.00         1\n",
      "                string       0.00      0.00      0.00         4\n",
      "           sublimetext       0.00      0.00      0.00         3\n",
      "                   svn       1.00      0.50      0.67         2\n",
      "                 swift       0.00      0.00      0.00         5\n",
      "                syntax       0.00      0.00      0.00         1\n",
      "   syntax-highlighting       0.00      0.00      0.00         1\n",
      "           terminology       0.00      0.00      0.00         3\n",
      "                themes       0.00      0.00      0.00         1\n",
      "                  tmux       0.00      0.00      0.00         1\n",
      "               twitter       0.00      0.00      0.00         1\n",
      "     twitter-bootstrap       0.00      0.00      0.00         1\n",
      "            typescript       0.60      0.27      0.37        11\n",
      "                   uml       0.00      0.00      0.00         1\n",
      "               unicode       0.00      0.00      0.00         1\n",
      "          unit-testing       1.00      0.50      0.67         2\n",
      "                  unix       0.00      0.00      0.00         8\n",
      "                urllib       0.00      0.00      0.00         1\n",
      "            validation       0.00      0.00      0.00         1\n",
      "             variables       0.00      0.00      0.00         1\n",
      "                 video       0.00      0.00      0.00         1\n",
      "                   vim       1.00      0.92      0.96        13\n",
      "         visual-studio       0.25      0.25      0.25         4\n",
      "    visual-studio-2010       0.00      0.00      0.00         1\n",
      "    visual-studio-2012       0.00      0.00      0.00         1\n",
      "    visual-studio-2013       0.00      0.00      0.00         1\n",
      "    visual-studio-code       0.40      1.00      0.57         4\n",
      "                vue.js       0.00      0.00      0.00         1\n",
      "                   wcf       0.00      0.00      0.00         1\n",
      "               windows       0.17      0.15      0.16        13\n",
      "                 xcode       1.00      0.33      0.50         3\n",
      "                   xml       0.00      0.00      0.00         2\n",
      "                 xpath       0.00      0.00      0.00         1\n",
      "                  yaml       0.00      0.00      0.00         1\n",
      "\n",
      "              accuracy                           0.64      2000\n",
      "             macro avg       0.16      0.13      0.14      2000\n",
      "          weighted avg       0.56      0.64      0.58      2000\n",
      "\n",
      "0.6425\n"
     ]
    },
    {
     "name": "stderr",
     "output_type": "stream",
     "text": [
      "/home/michelly/anaconda3/envs/deep-learning/lib/python3.9/site-packages/sklearn/metrics/_classification.py:1318: UndefinedMetricWarning: Precision and F-score are ill-defined and being set to 0.0 in labels with no predicted samples. Use `zero_division` parameter to control this behavior.\n",
      "  _warn_prf(average, modifier, msg_start, len(result))\n",
      "/home/michelly/anaconda3/envs/deep-learning/lib/python3.9/site-packages/sklearn/metrics/_classification.py:1318: UndefinedMetricWarning: Recall and F-score are ill-defined and being set to 0.0 in labels with no true samples. Use `zero_division` parameter to control this behavior.\n",
      "  _warn_prf(average, modifier, msg_start, len(result))\n",
      "/home/michelly/anaconda3/envs/deep-learning/lib/python3.9/site-packages/sklearn/metrics/_classification.py:1318: UndefinedMetricWarning: Precision and F-score are ill-defined and being set to 0.0 in labels with no predicted samples. Use `zero_division` parameter to control this behavior.\n",
      "  _warn_prf(average, modifier, msg_start, len(result))\n",
      "/home/michelly/anaconda3/envs/deep-learning/lib/python3.9/site-packages/sklearn/metrics/_classification.py:1318: UndefinedMetricWarning: Recall and F-score are ill-defined and being set to 0.0 in labels with no true samples. Use `zero_division` parameter to control this behavior.\n",
      "  _warn_prf(average, modifier, msg_start, len(result))\n",
      "/home/michelly/anaconda3/envs/deep-learning/lib/python3.9/site-packages/sklearn/metrics/_classification.py:1318: UndefinedMetricWarning: Precision and F-score are ill-defined and being set to 0.0 in labels with no predicted samples. Use `zero_division` parameter to control this behavior.\n",
      "  _warn_prf(average, modifier, msg_start, len(result))\n",
      "/home/michelly/anaconda3/envs/deep-learning/lib/python3.9/site-packages/sklearn/metrics/_classification.py:1318: UndefinedMetricWarning: Recall and F-score are ill-defined and being set to 0.0 in labels with no true samples. Use `zero_division` parameter to control this behavior.\n",
      "  _warn_prf(average, modifier, msg_start, len(result))\n"
     ]
    }
   ],
   "source": [
    "from sklearn.metrics import classification_report, confusion_matrix, accuracy_score\n",
    "\n",
    "print(confusion_matrix(y_test,y_pred))\n",
    "print(classification_report(y_test,y_pred))\n",
    "print(accuracy_score(y_test, y_pred))"
   ]
  },
  {
   "cell_type": "code",
   "execution_count": null,
   "id": "4eb592be-d6d7-438e-80da-d7086d83dc28",
   "metadata": {},
   "outputs": [],
   "source": []
  }
 ],
 "metadata": {
  "kernelspec": {
   "display_name": "Python 3 (ipykernel)",
   "language": "python",
   "name": "python3"
  },
  "language_info": {
   "codemirror_mode": {
    "name": "ipython",
    "version": 3
   },
   "file_extension": ".py",
   "mimetype": "text/x-python",
   "name": "python",
   "nbconvert_exporter": "python",
   "pygments_lexer": "ipython3",
   "version": "3.9.12"
  }
 },
 "nbformat": 4,
 "nbformat_minor": 5
}

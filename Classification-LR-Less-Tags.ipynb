{
 "cells": [
  {
   "cell_type": "code",
   "execution_count": 29,
   "id": "00237f5c-b98a-47ff-85aa-e6975a02f1c5",
   "metadata": {},
   "outputs": [],
   "source": [
    "import os\n",
    "\n",
    "cwd = os.getcwd()"
   ]
  },
  {
   "cell_type": "code",
   "execution_count": 30,
   "id": "e67fcd87-1304-4135-af00-114f62b62965",
   "metadata": {},
   "outputs": [],
   "source": [
    "import pandas as pd\n",
    "\n",
    "\n",
    "df = pd.read_csv(cwd + '/data/processed/posts_train_test_clean.csv')"
   ]
  },
  {
   "cell_type": "code",
   "execution_count": 31,
   "id": "a455aca8-f5d6-4d6e-bd44-0f2964db7c12",
   "metadata": {},
   "outputs": [
    {
     "data": {
      "text/html": [
       "<div>\n",
       "<style scoped>\n",
       "    .dataframe tbody tr th:only-of-type {\n",
       "        vertical-align: middle;\n",
       "    }\n",
       "\n",
       "    .dataframe tbody tr th {\n",
       "        vertical-align: top;\n",
       "    }\n",
       "\n",
       "    .dataframe thead th {\n",
       "        text-align: right;\n",
       "    }\n",
       "</style>\n",
       "<table border=\"1\" class=\"dataframe\">\n",
       "  <thead>\n",
       "    <tr style=\"text-align: right;\">\n",
       "      <th></th>\n",
       "      <th>Unnamed: 0</th>\n",
       "      <th>Post Link</th>\n",
       "      <th>Title</th>\n",
       "      <th>Body</th>\n",
       "      <th>Tags</th>\n",
       "      <th>CreationDate</th>\n",
       "      <th>Answer Date</th>\n",
       "      <th>AcceptedAnswerId</th>\n",
       "      <th>id</th>\n",
       "      <th>score</th>\n",
       "      <th>complete_text</th>\n",
       "      <th>normalized_text</th>\n",
       "    </tr>\n",
       "  </thead>\n",
       "  <tbody>\n",
       "    <tr>\n",
       "      <th>0</th>\n",
       "      <td>69943</td>\n",
       "      <td>16835963</td>\n",
       "      <td>Sidekiq not processing queue</td>\n",
       "      <td>&lt;p&gt;What possible reasons can &lt;a href=\"https://...</td>\n",
       "      <td>&lt;ruby-on-rails-3&gt;&lt;redis&gt;&lt;sidekiq&gt;</td>\n",
       "      <td>2013-05-30 12:19:00</td>\n",
       "      <td>2013-05-30 12:53:32</td>\n",
       "      <td>16836794</td>\n",
       "      <td>16836794</td>\n",
       "      <td>71</td>\n",
       "      <td>sidekiq not processing queue what possible rea...</td>\n",
       "      <td>sidekiq process queue possibl reason sidekiq p...</td>\n",
       "    </tr>\n",
       "    <tr>\n",
       "      <th>1</th>\n",
       "      <td>79655</td>\n",
       "      <td>31667160</td>\n",
       "      <td>Running docker container : iptables: No chain/...</td>\n",
       "      <td>&lt;p&gt;I'm trying to run a container but I get the...</td>\n",
       "      <td>&lt;docker&gt;&lt;port&gt;&lt;iptables&gt;</td>\n",
       "      <td>2015-07-28 04:03:53</td>\n",
       "      <td>2015-07-28 04:14:04</td>\n",
       "      <td>31667244</td>\n",
       "      <td>31667244</td>\n",
       "      <td>65</td>\n",
       "      <td>running docker container iptables no chain tar...</td>\n",
       "      <td>run docker contain iptabl chain target match n...</td>\n",
       "    </tr>\n",
       "    <tr>\n",
       "      <th>2</th>\n",
       "      <td>97858</td>\n",
       "      <td>3299648</td>\n",
       "      <td>Python Compilation/Interpretation Process</td>\n",
       "      <td>&lt;p&gt;I'm trying to understand the python compile...</td>\n",
       "      <td>&lt;python&gt;&lt;compiler-construction&gt;&lt;interpreter&gt;&lt;p...</td>\n",
       "      <td>2010-07-21 13:21:47</td>\n",
       "      <td>2010-07-21 13:28:54</td>\n",
       "      <td>3299724</td>\n",
       "      <td>3299724</td>\n",
       "      <td>53</td>\n",
       "      <td>python compilation interpretation process i m ...</td>\n",
       "      <td>python compil interpret process tri understand...</td>\n",
       "    </tr>\n",
       "    <tr>\n",
       "      <th>3</th>\n",
       "      <td>14078</td>\n",
       "      <td>3664272</td>\n",
       "      <td>Is std::vector so much slower than plain arrays?</td>\n",
       "      <td>&lt;p&gt;I've always thought it's the general wisdom...</td>\n",
       "      <td>&lt;c++&gt;&lt;arrays&gt;&lt;performance&gt;&lt;stl&gt;&lt;vector&gt;</td>\n",
       "      <td>2010-09-08 02:38:41</td>\n",
       "      <td>2010-09-08 02:57:40</td>\n",
       "      <td>3664349</td>\n",
       "      <td>3664349</td>\n",
       "      <td>239</td>\n",
       "      <td>is std vector so much slower than plain arrays...</td>\n",
       "      <td>std vector much slower plain array alway thoug...</td>\n",
       "    </tr>\n",
       "    <tr>\n",
       "      <th>4</th>\n",
       "      <td>46299</td>\n",
       "      <td>13342123</td>\n",
       "      <td>How to get relative path of a file in visual s...</td>\n",
       "      <td>&lt;p&gt;I am trying to get the path of an image fil...</td>\n",
       "      <td>&lt;c#&gt;&lt;visual-studio&gt;</td>\n",
       "      <td>2012-11-12 10:33:32</td>\n",
       "      <td>2013-10-11 10:57:06</td>\n",
       "      <td>19316470</td>\n",
       "      <td>19316470</td>\n",
       "      <td>100</td>\n",
       "      <td>how to get relative path of a file in visual s...</td>\n",
       "      <td>get rel path file visual studio tri get path i...</td>\n",
       "    </tr>\n",
       "  </tbody>\n",
       "</table>\n",
       "</div>"
      ],
      "text/plain": [
       "   Unnamed: 0  Post Link                                              Title  \\\n",
       "0       69943   16835963                       Sidekiq not processing queue   \n",
       "1       79655   31667160  Running docker container : iptables: No chain/...   \n",
       "2       97858    3299648          Python Compilation/Interpretation Process   \n",
       "3       14078    3664272   Is std::vector so much slower than plain arrays?   \n",
       "4       46299   13342123  How to get relative path of a file in visual s...   \n",
       "\n",
       "                                                Body  \\\n",
       "0  <p>What possible reasons can <a href=\"https://...   \n",
       "1  <p>I'm trying to run a container but I get the...   \n",
       "2  <p>I'm trying to understand the python compile...   \n",
       "3  <p>I've always thought it's the general wisdom...   \n",
       "4  <p>I am trying to get the path of an image fil...   \n",
       "\n",
       "                                                Tags         CreationDate  \\\n",
       "0                  <ruby-on-rails-3><redis><sidekiq>  2013-05-30 12:19:00   \n",
       "1                           <docker><port><iptables>  2015-07-28 04:03:53   \n",
       "2  <python><compiler-construction><interpreter><p...  2010-07-21 13:21:47   \n",
       "3            <c++><arrays><performance><stl><vector>  2010-09-08 02:38:41   \n",
       "4                                <c#><visual-studio>  2012-11-12 10:33:32   \n",
       "\n",
       "           Answer Date  AcceptedAnswerId        id  score  \\\n",
       "0  2013-05-30 12:53:32          16836794  16836794     71   \n",
       "1  2015-07-28 04:14:04          31667244  31667244     65   \n",
       "2  2010-07-21 13:28:54           3299724   3299724     53   \n",
       "3  2010-09-08 02:57:40           3664349   3664349    239   \n",
       "4  2013-10-11 10:57:06          19316470  19316470    100   \n",
       "\n",
       "                                       complete_text  \\\n",
       "0  sidekiq not processing queue what possible rea...   \n",
       "1  running docker container iptables no chain tar...   \n",
       "2  python compilation interpretation process i m ...   \n",
       "3  is std vector so much slower than plain arrays...   \n",
       "4  how to get relative path of a file in visual s...   \n",
       "\n",
       "                                     normalized_text  \n",
       "0  sidekiq process queue possibl reason sidekiq p...  \n",
       "1  run docker contain iptabl chain target match n...  \n",
       "2  python compil interpret process tri understand...  \n",
       "3  std vector much slower plain array alway thoug...  \n",
       "4  get rel path file visual studio tri get path i...  "
      ]
     },
     "execution_count": 31,
     "metadata": {},
     "output_type": "execute_result"
    }
   ],
   "source": [
    "df.head()"
   ]
  },
  {
   "cell_type": "markdown",
   "id": "7a7b54bb-941a-468c-82b2-c834201245f6",
   "metadata": {},
   "source": [
    "### Criando os targets"
   ]
  },
  {
   "cell_type": "code",
   "execution_count": 32,
   "id": "1257b764-39bd-4656-b221-575e7c5f9a86",
   "metadata": {},
   "outputs": [],
   "source": [
    "def split_tags(tags):\n",
    "    tags = tags[1:-1]\n",
    "    tags = tags.split(\"><\")\n",
    "    \n",
    "    return tags"
   ]
  },
  {
   "cell_type": "code",
   "execution_count": 33,
   "id": "72b70203-351f-4b4c-af6d-67830c7c1161",
   "metadata": {},
   "outputs": [],
   "source": [
    "df['targets'] = df.Tags.apply(lambda x: split_tags(x))"
   ]
  },
  {
   "cell_type": "markdown",
   "id": "6b10410b",
   "metadata": {},
   "source": [
    "## 100 Tags mais usadas"
   ]
  },
  {
   "cell_type": "code",
   "execution_count": 34,
   "id": "af06758a",
   "metadata": {},
   "outputs": [],
   "source": [
    "def calculateTagsEntries(df):\n",
    "    count = {}\n",
    "    \n",
    "    for tags in df['targets']:\n",
    "        for tag in tags:\n",
    "            if(tag not in count.keys()):\n",
    "                dataTag = {\n",
    "                    'entries': 1,\n",
    "                }\n",
    "                count[tag] = dataTag\n",
    "            else:\n",
    "                count[tag]['entries'] += 1\n",
    "    return count\n",
    "\n",
    "def sortTags(count):\n",
    "    return dict(sorted(count.items(), key=lambda item: -item[1]['entries']))"
   ]
  },
  {
   "cell_type": "code",
   "execution_count": 35,
   "id": "ef690b30",
   "metadata": {},
   "outputs": [],
   "source": [
    "classes = []\n",
    "\n",
    "def createClassesColumn(df):\n",
    "    for documentTags in df['targets']:\n",
    "        wasInDocumentTags = False\n",
    "\n",
    "        for documentTag in documentTags:\n",
    "            if(documentTag in MostUsedTags):\n",
    "                wasInDocumentTags = True\n",
    "                classes.append(documentTag)\n",
    "                break\n",
    "        if(not wasInDocumentTags):\n",
    "            classes.append('unknown-tag')\n",
    "    df['class'] = classes    "
   ]
  },
  {
   "cell_type": "code",
   "execution_count": 36,
   "id": "249c9a6b",
   "metadata": {},
   "outputs": [],
   "source": [
    "MostUsedTags = list(sortTags(calculateTagsEntries(df)).keys())[:100]\n",
    "createClassesColumn(df)"
   ]
  },
  {
   "cell_type": "code",
   "execution_count": 37,
   "id": "c665491f",
   "metadata": {},
   "outputs": [],
   "source": [
    "y = df['class']"
   ]
  },
  {
   "cell_type": "code",
   "execution_count": 38,
   "id": "98fc11cb-129c-4245-8e06-dbe00880ab6f",
   "metadata": {},
   "outputs": [
    {
     "data": {
      "text/plain": [
       "0           unknown-tag\n",
       "1                docker\n",
       "2                python\n",
       "3                   c++\n",
       "4                    c#\n",
       "              ...      \n",
       "73917        javascript\n",
       "73918    android-studio\n",
       "73919              html\n",
       "73920        javascript\n",
       "73921              http\n",
       "Name: class, Length: 73922, dtype: object"
      ]
     },
     "execution_count": 38,
     "metadata": {},
     "output_type": "execute_result"
    }
   ],
   "source": [
    "y"
   ]
  },
  {
   "cell_type": "code",
   "execution_count": 39,
   "id": "56cc72fd",
   "metadata": {},
   "outputs": [],
   "source": [
    "targets_set = set(MostUsedTags + ['unknown-tag'])"
   ]
  },
  {
   "cell_type": "code",
   "execution_count": 40,
   "id": "b598615f-7d10-4c27-9fe3-170b110a6449",
   "metadata": {
    "scrolled": true,
    "tags": []
   },
   "outputs": [
    {
     "data": {
      "text/plain": [
       "101"
      ]
     },
     "execution_count": 40,
     "metadata": {},
     "output_type": "execute_result"
    }
   ],
   "source": [
    "len(targets_set)"
   ]
  },
  {
   "cell_type": "code",
   "execution_count": 41,
   "id": "f73d9b93-40f1-4f5a-ab80-400f4a8ca3a9",
   "metadata": {
    "scrolled": true,
    "tags": []
   },
   "outputs": [
    {
     "data": {
      "text/plain": [
       "{'.net',\n",
       " 'ajax',\n",
       " 'algorithm',\n",
       " 'amazon-web-services',\n",
       " 'android',\n",
       " 'android-studio',\n",
       " 'angular',\n",
       " 'angularjs',\n",
       " 'arrays',\n",
       " 'asp.net',\n",
       " 'asp.net-mvc',\n",
       " 'bash',\n",
       " 'c',\n",
       " 'c#',\n",
       " 'c++',\n",
       " 'c++11',\n",
       " 'class',\n",
       " 'cocoa-touch',\n",
       " 'command-line',\n",
       " 'css',\n",
       " 'dart',\n",
       " 'database',\n",
       " 'dataframe',\n",
       " 'date',\n",
       " 'datetime',\n",
       " 'debugging',\n",
       " 'dictionary',\n",
       " 'django',\n",
       " 'docker',\n",
       " 'eclipse',\n",
       " 'entity-framework',\n",
       " 'exception',\n",
       " 'file',\n",
       " 'flutter',\n",
       " 'function',\n",
       " 'git',\n",
       " 'github',\n",
       " 'go',\n",
       " 'google-chrome',\n",
       " 'gradle',\n",
       " 'html',\n",
       " 'http',\n",
       " 'image',\n",
       " 'intellij-idea',\n",
       " 'ios',\n",
       " 'iphone',\n",
       " 'java',\n",
       " 'java-8',\n",
       " 'javascript',\n",
       " 'jquery',\n",
       " 'json',\n",
       " 'laravel',\n",
       " 'linq',\n",
       " 'linux',\n",
       " 'list',\n",
       " 'macos',\n",
       " 'matplotlib',\n",
       " 'maven',\n",
       " 'mongodb',\n",
       " 'multithreading',\n",
       " 'mysql',\n",
       " 'node.js',\n",
       " 'npm',\n",
       " 'numpy',\n",
       " 'objective-c',\n",
       " 'oop',\n",
       " 'pandas',\n",
       " 'performance',\n",
       " 'php',\n",
       " 'postgresql',\n",
       " 'python',\n",
       " 'python-3.x',\n",
       " 'r',\n",
       " 'reactjs',\n",
       " 'regex',\n",
       " 'rest',\n",
       " 'ruby',\n",
       " 'ruby-on-rails',\n",
       " 'scala',\n",
       " 'shell',\n",
       " 'sorting',\n",
       " 'spring',\n",
       " 'sql',\n",
       " 'sql-server',\n",
       " 'string',\n",
       " 'swift',\n",
       " 'syntax',\n",
       " 'tsql',\n",
       " 'twitter-bootstrap',\n",
       " 'typescript',\n",
       " 'unit-testing',\n",
       " 'unix',\n",
       " 'unknown-tag',\n",
       " 'version-control',\n",
       " 'vim',\n",
       " 'visual-studio',\n",
       " 'visual-studio-code',\n",
       " 'windows',\n",
       " 'wpf',\n",
       " 'xcode',\n",
       " 'xml'}"
      ]
     },
     "execution_count": 41,
     "metadata": {},
     "output_type": "execute_result"
    }
   ],
   "source": [
    "targets_set"
   ]
  },
  {
   "cell_type": "code",
   "execution_count": 42,
   "id": "742bf62f-84f5-47f3-ae4a-065622e6e904",
   "metadata": {},
   "outputs": [],
   "source": [
    "words_post = df.complete_text.apply(lambda x: str(x))\n",
    "\n",
    "from sklearn.feature_extraction.text import CountVectorizer\n",
    "from sklearn.feature_extraction.text import TfidfVectorizer\n",
    "\n",
    "vectorizer = TfidfVectorizer(min_df=20)\n",
    "# vectorizer = TfidfVectorizer()\n",
    "vectorizer.fit(words_post)\n",
    "X = vectorizer.transform(words_post)"
   ]
  },
  {
   "cell_type": "code",
   "execution_count": 43,
   "id": "d8b7296e-e2de-4d7a-86cf-89526b5da541",
   "metadata": {},
   "outputs": [
    {
     "data": {
      "text/plain": [
       "8714"
      ]
     },
     "execution_count": 43,
     "metadata": {},
     "output_type": "execute_result"
    }
   ],
   "source": [
    "len(vectorizer.vocabulary_)"
   ]
  },
  {
   "cell_type": "code",
   "execution_count": 44,
   "id": "fbaab523-044c-4fd8-9afe-97842d25ccf7",
   "metadata": {},
   "outputs": [
    {
     "data": {
      "text/plain": [
       "0"
      ]
     },
     "execution_count": 44,
     "metadata": {},
     "output_type": "execute_result"
    }
   ],
   "source": [
    "import gc\n",
    "\n",
    "gc.collect()"
   ]
  },
  {
   "cell_type": "code",
   "execution_count": 45,
   "id": "e0a64891-3d01-4ad2-9f58-946ae36b19c2",
   "metadata": {},
   "outputs": [],
   "source": [
    "from sklearn.model_selection import train_test_split\n",
    "    \n",
    "X_train, X_test, y_train, y_test = train_test_split(X, y, test_size=0.2, random_state=42)"
   ]
  },
  {
   "cell_type": "code",
   "execution_count": 46,
   "id": "404ad6ac-549f-4a26-b30d-9288ad768fb2",
   "metadata": {},
   "outputs": [
    {
     "data": {
      "text/plain": [
       "LogisticRegression(n_jobs=-1, random_state=44)"
      ]
     },
     "execution_count": 46,
     "metadata": {},
     "output_type": "execute_result"
    }
   ],
   "source": [
    "from sklearn.linear_model import LogisticRegression\n",
    "\n",
    "lr_model = LogisticRegression(random_state=44, n_jobs = -1)\n",
    "lr_model.fit(X_train, y_train)"
   ]
  },
  {
   "cell_type": "code",
   "execution_count": 47,
   "id": "4c1f19ac-5666-4bb1-a86b-3cfba1d6b844",
   "metadata": {},
   "outputs": [],
   "source": [
    "y_pred = lr_model.predict(X_test)"
   ]
  },
  {
   "cell_type": "code",
   "execution_count": 48,
   "id": "d99c32f8-810a-485d-8aa1-ddc08c76e618",
   "metadata": {},
   "outputs": [
    {
     "data": {
      "text/plain": [
       "45"
      ]
     },
     "execution_count": 48,
     "metadata": {},
     "output_type": "execute_result"
    }
   ],
   "source": [
    "gc.collect()"
   ]
  },
  {
   "cell_type": "code",
   "execution_count": 49,
   "id": "6de86add-cfa6-4b3e-9167-2cd297e01919",
   "metadata": {
    "scrolled": true,
    "tags": []
   },
   "outputs": [
    {
     "name": "stdout",
     "output_type": "stream",
     "text": [
      "[[11  0  0 ...  1  0  0]\n",
      " [ 0  0  0 ...  0  0  0]\n",
      " [ 0  0 13 ...  0  0  0]\n",
      " ...\n",
      " [ 0  0  0 ... 18  0  0]\n",
      " [ 0  0  0 ...  0 12  0]\n",
      " [ 0  0  0 ...  0  0  5]]\n"
     ]
    },
    {
     "name": "stderr",
     "output_type": "stream",
     "text": [
      "C:\\Users\\Vitor\\anaconda3\\lib\\site-packages\\sklearn\\metrics\\_classification.py:1318: UndefinedMetricWarning: Precision and F-score are ill-defined and being set to 0.0 in labels with no predicted samples. Use `zero_division` parameter to control this behavior.\n",
      "  _warn_prf(average, modifier, msg_start, len(result))\n",
      "C:\\Users\\Vitor\\anaconda3\\lib\\site-packages\\sklearn\\metrics\\_classification.py:1318: UndefinedMetricWarning: Precision and F-score are ill-defined and being set to 0.0 in labels with no predicted samples. Use `zero_division` parameter to control this behavior.\n",
      "  _warn_prf(average, modifier, msg_start, len(result))\n"
     ]
    },
    {
     "name": "stdout",
     "output_type": "stream",
     "text": [
      "                     precision    recall  f1-score   support\n",
      "\n",
      "               .net       0.52      0.09      0.15       127\n",
      "               ajax       0.00      0.00      0.00         4\n",
      "          algorithm       0.59      0.25      0.36        51\n",
      "amazon-web-services       0.67      0.50      0.57        28\n",
      "            android       0.82      0.84      0.83       801\n",
      "     android-studio       0.00      0.00      0.00        16\n",
      "            angular       0.74      0.63      0.68       116\n",
      "          angularjs       0.73      0.29      0.42        65\n",
      "             arrays       0.00      0.00      0.00        31\n",
      "            asp.net       0.42      0.19      0.27        67\n",
      "        asp.net-mvc       0.27      0.18      0.21        51\n",
      "               bash       0.67      0.54      0.59       138\n",
      "                  c       0.66      0.37      0.47       194\n",
      "                 c#       0.62      0.74      0.67      1141\n",
      "                c++       0.74      0.71      0.73       645\n",
      "              c++11       0.00      0.00      0.00         1\n",
      "              class       0.00      0.00      0.00         2\n",
      "        cocoa-touch       0.00      0.00      0.00         4\n",
      "       command-line       0.00      0.00      0.00        10\n",
      "                css       0.54      0.58      0.56       210\n",
      "               dart       0.45      0.22      0.29        23\n",
      "           database       0.50      0.11      0.17        38\n",
      "          dataframe       0.00      0.00      0.00         4\n",
      "               date       0.00      0.00      0.00         1\n",
      "           datetime       0.00      0.00      0.00         5\n",
      "          debugging       0.00      0.00      0.00        10\n",
      "         dictionary       0.00      0.00      0.00         4\n",
      "             django       0.41      0.21      0.28        75\n",
      "             docker       0.77      0.76      0.76       100\n",
      "            eclipse       0.75      0.44      0.55        48\n",
      "   entity-framework       0.00      0.00      0.00        10\n",
      "          exception       0.00      0.00      0.00         2\n",
      "               file       0.00      0.00      0.00        11\n",
      "            flutter       0.70      0.52      0.60        44\n",
      "           function       0.00      0.00      0.00        11\n",
      "                git       0.89      0.93      0.91       446\n",
      "             github       0.47      0.26      0.34        34\n",
      "                 go       0.85      0.52      0.65        65\n",
      "      google-chrome       0.52      0.46      0.49        24\n",
      "             gradle       0.57      0.18      0.28        22\n",
      "               html       0.56      0.56      0.56       349\n",
      "               http       0.40      0.29      0.33        42\n",
      "              image       0.00      0.00      0.00         9\n",
      "      intellij-idea       0.58      0.41      0.48        44\n",
      "                ios       0.63      0.73      0.68       390\n",
      "             iphone       0.50      0.07      0.12       112\n",
      "               java       0.73      0.77      0.75      1267\n",
      "             java-8       0.00      0.00      0.00         4\n",
      "         javascript       0.68      0.78      0.73      1459\n",
      "             jquery       0.50      0.30      0.38       178\n",
      "               json       0.39      0.18      0.25        38\n",
      "            laravel       1.00      0.04      0.08        24\n",
      "               linq       0.00      0.00      0.00         8\n",
      "              linux       0.49      0.38      0.43       180\n",
      "               list       0.00      0.00      0.00         6\n",
      "              macos       0.39      0.20      0.27        59\n",
      "         matplotlib       0.00      0.00      0.00         3\n",
      "              maven       0.44      0.18      0.26        22\n",
      "            mongodb       0.67      0.63      0.65        35\n",
      "     multithreading       0.00      0.00      0.00        12\n",
      "              mysql       0.77      0.78      0.78       226\n",
      "            node.js       0.63      0.57      0.60       169\n",
      "                npm       0.00      0.00      0.00        11\n",
      "        objective-c       0.53      0.30      0.38        97\n",
      "                oop       0.00      0.00      0.00        16\n",
      "             pandas       0.00      0.00      0.00         2\n",
      "        performance       0.00      0.00      0.00        15\n",
      "                php       0.86      0.75      0.80       485\n",
      "         postgresql       0.64      0.44      0.52        64\n",
      "             python       0.82      0.89      0.86      1484\n",
      "         python-3.x       0.00      0.00      0.00         5\n",
      "                  r       0.88      0.62      0.72       164\n",
      "            reactjs       0.47      0.24      0.32        83\n",
      "              regex       0.56      0.44      0.49        54\n",
      "               rest       0.60      0.25      0.35        24\n",
      "               ruby       0.79      0.61      0.69       137\n",
      "      ruby-on-rails       0.83      0.64      0.72       209\n",
      "              scala       0.84      0.62      0.72        61\n",
      "              shell       1.00      0.04      0.08        25\n",
      "            sorting       0.00      0.00      0.00         3\n",
      "             spring       0.25      0.03      0.06        32\n",
      "                sql       0.52      0.66      0.58       258\n",
      "         sql-server       0.41      0.15      0.22        91\n",
      "             string       0.00      0.00      0.00        25\n",
      "              swift       0.71      0.34      0.46        71\n",
      "             syntax       0.00      0.00      0.00         8\n",
      "               tsql       0.00      0.00      0.00         7\n",
      "  twitter-bootstrap       0.48      0.36      0.41        28\n",
      "         typescript       0.83      0.45      0.58        78\n",
      "       unit-testing       0.27      0.12      0.16        26\n",
      "               unix       0.00      0.00      0.00        19\n",
      "        unknown-tag       0.41      0.69      0.52      1490\n",
      "    version-control       0.00      0.00      0.00        11\n",
      "                vim       0.88      0.87      0.88        78\n",
      "      visual-studio       0.43      0.39      0.41        61\n",
      " visual-studio-code       0.73      0.35      0.48        31\n",
      "            windows       0.53      0.34      0.42        97\n",
      "                wpf       0.62      0.43      0.51        42\n",
      "              xcode       0.44      0.25      0.32        48\n",
      "                xml       0.42      0.17      0.24        30\n",
      "\n",
      "           accuracy                           0.66     14785\n",
      "          macro avg       0.41      0.29      0.32     14785\n",
      "       weighted avg       0.65      0.66      0.64     14785\n",
      "\n",
      "0.6553939803855259\n"
     ]
    },
    {
     "name": "stderr",
     "output_type": "stream",
     "text": [
      "C:\\Users\\Vitor\\anaconda3\\lib\\site-packages\\sklearn\\metrics\\_classification.py:1318: UndefinedMetricWarning: Precision and F-score are ill-defined and being set to 0.0 in labels with no predicted samples. Use `zero_division` parameter to control this behavior.\n",
      "  _warn_prf(average, modifier, msg_start, len(result))\n"
     ]
    }
   ],
   "source": [
    "from sklearn.metrics import classification_report, confusion_matrix, accuracy_score\n",
    "\n",
    "print(confusion_matrix(y_test,y_pred))\n",
    "print(classification_report(y_test,y_pred))\n",
    "print(accuracy_score(y_test, y_pred))"
   ]
  },
  {
   "cell_type": "code",
   "execution_count": 50,
   "id": "d79c7d75-7b1e-45ef-8d1a-48b1051b6f19",
   "metadata": {},
   "outputs": [],
   "source": [
    "cm = confusion_matrix(y_test,y_pred)"
   ]
  },
  {
   "cell_type": "code",
   "execution_count": 51,
   "id": "6dd243a8-b797-4ced-8780-5b9bdc6651e6",
   "metadata": {
    "scrolled": true
   },
   "outputs": [],
   "source": [
    "import seaborn as sn\n",
    "import pandas as pd\n",
    "import matplotlib.pyplot as plt\n",
    "from sklearn import metrics \n",
    "\n",
    "cm_display = metrics.ConfusionMatrixDisplay(confusion_matrix = cm, display_labels = [False, True]) \n",
    "#cm_display.plot()\n",
    "plt.show() "
   ]
  },
  {
   "cell_type": "code",
   "execution_count": 52,
   "id": "e01037e2-c888-4754-87e7-e07114b1f6cc",
   "metadata": {},
   "outputs": [
    {
     "data": {
      "image/png": "[encoded data removed]",
      "text/plain": [
       "<Figure size 360x288 with 2 Axes>"
      ]
     },
     "metadata": {
      "needs_background": "light"
     },
     "output_type": "display_data"
    }
   ],
   "source": [
    "import seaborn as sns\n",
    "plt.figure(figsize=(5,4))\n",
    "sns.heatmap(cm, annot=True)\n",
    "plt.title('Confusion Matrix')\n",
    "plt.ylabel('Actal Values')\n",
    "plt.xlabel('Predicted Values')\n",
    "plt.show()\n"
   ]
  },
  {
   "cell_type": "code",
   "execution_count": 53,
   "id": "072bd42c-ec5c-4f02-8666-8e25719ab03e",
   "metadata": {},
   "outputs": [],
   "source": [
    "# import pickle\n",
    "# s = pickle.dumps(rf_model)\n",
    "# rf_model_2 = pickle.loads(s)"
   ]
  },
  {
   "cell_type": "code",
   "execution_count": 54,
   "id": "324f3df3-0694-4098-a0a7-200933c13db8",
   "metadata": {},
   "outputs": [
    {
     "data": {
      "text/plain": [
       "['models/lr_model_less_tags.joblib']"
      ]
     },
     "execution_count": 54,
     "metadata": {},
     "output_type": "execute_result"
    }
   ],
   "source": [
    "from joblib import dump, load\n",
    "dump(lr_model, 'models/lr_model_less_tags.joblib') "
   ]
  },
  {
   "cell_type": "code",
   "execution_count": 55,
   "id": "77608051-ccf9-44d2-a2c1-bf78b493b109",
   "metadata": {},
   "outputs": [],
   "source": [
    "# from sklearn.model_selection import cross_val_score\n",
    "# import numpy as np\n",
    "\n",
    "# np.mean(cross_val_score(lr_model, X_train, y_train, cv=5))"
   ]
  },
  {
   "cell_type": "code",
   "execution_count": 56,
   "id": "62348a8e-6ebb-4d2b-b63c-98e812afa4f9",
   "metadata": {},
   "outputs": [
    {
     "data": {
      "text/plain": [
       "607406"
      ]
     },
     "execution_count": 56,
     "metadata": {},
     "output_type": "execute_result"
    }
   ],
   "source": [
    "gc.collect()"
   ]
  },
  {
   "cell_type": "markdown",
   "id": "68082748",
   "metadata": {},
   "source": [
    "#TODO Analisar modelo gerado"
   ]
  }
 ],
 "metadata": {
  "kernelspec": {
   "display_name": "Python 3 (ipykernel)",
   "language": "python",
   "name": "python3"
  },
  "language_info": {
   "codemirror_mode": {
    "name": "ipython",
    "version": 3
   },
   "file_extension": ".py",
   "mimetype": "text/x-python",
   "name": "python",
   "nbconvert_exporter": "python",
   "pygments_lexer": "ipython3",
   "version": "3.9.12"
  },
  "vscode": {
   "interpreter": {
    "hash": "20e111088975a310da505e74633c4af809ea2d5b50618339feeb4c21b6997cbb"
   }
  }
 },
 "nbformat": 4,
 "nbformat_minor": 5
}
